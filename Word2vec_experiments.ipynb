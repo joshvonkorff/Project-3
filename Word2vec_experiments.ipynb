{
 "cells": [
  {
   "cell_type": "code",
   "execution_count": 57,
   "metadata": {},
   "outputs": [
    {
     "name": "stderr",
     "output_type": "stream",
     "text": [
      "/anaconda3/lib/python3.6/site-packages/ipykernel_launcher.py:19: RuntimeWarning: divide by zero encountered in log\n"
     ]
    },
    {
     "data": {
      "text/html": [
       "<table class=\"simpletable\">\n",
       "<caption>OLS Regression Results</caption>\n",
       "<tr>\n",
       "  <th>Dep. Variable:</th>          <td>logen</td>      <th>  R-squared:         </th> <td>   0.355</td>\n",
       "</tr>\n",
       "<tr>\n",
       "  <th>Model:</th>                   <td>OLS</td>       <th>  Adj. R-squared:    </th> <td>   0.354</td>\n",
       "</tr>\n",
       "<tr>\n",
       "  <th>Method:</th>             <td>Least Squares</td>  <th>  F-statistic:       </th> <td>   489.2</td>\n",
       "</tr>\n",
       "<tr>\n",
       "  <th>Date:</th>             <td>Sun, 28 Oct 2018</td> <th>  Prob (F-statistic):</th> <td>1.00e-86</td>\n",
       "</tr>\n",
       "<tr>\n",
       "  <th>Time:</th>                 <td>20:17:11</td>     <th>  Log-Likelihood:    </th> <td> -1809.2</td>\n",
       "</tr>\n",
       "<tr>\n",
       "  <th>No. Observations:</th>      <td>   892</td>      <th>  AIC:               </th> <td>   3622.</td>\n",
       "</tr>\n",
       "<tr>\n",
       "  <th>Df Residuals:</th>          <td>   890</td>      <th>  BIC:               </th> <td>   3632.</td>\n",
       "</tr>\n",
       "<tr>\n",
       "  <th>Df Model:</th>              <td>     1</td>      <th>                     </th>     <td> </td>   \n",
       "</tr>\n",
       "<tr>\n",
       "  <th>Covariance Type:</th>      <td>nonrobust</td>    <th>                     </th>     <td> </td>   \n",
       "</tr>\n",
       "</table>\n",
       "<table class=\"simpletable\">\n",
       "<tr>\n",
       "      <td></td>         <th>coef</th>     <th>std err</th>      <th>t</th>      <th>P>|t|</th>  <th>[0.025</th>    <th>0.975]</th>  \n",
       "</tr>\n",
       "<tr>\n",
       "  <th>Intercept</th> <td>    3.5802</td> <td>    0.611</td> <td>    5.863</td> <td> 0.000</td> <td>    2.382</td> <td>    4.779</td>\n",
       "</tr>\n",
       "<tr>\n",
       "  <th>logcorpus</th> <td>    1.8159</td> <td>    0.082</td> <td>   22.117</td> <td> 0.000</td> <td>    1.655</td> <td>    1.977</td>\n",
       "</tr>\n",
       "</table>\n",
       "<table class=\"simpletable\">\n",
       "<tr>\n",
       "  <th>Omnibus:</th>       <td>44.215</td> <th>  Durbin-Watson:     </th> <td>   2.007</td>\n",
       "</tr>\n",
       "<tr>\n",
       "  <th>Prob(Omnibus):</th> <td> 0.000</td> <th>  Jarque-Bera (JB):  </th> <td>  51.007</td>\n",
       "</tr>\n",
       "<tr>\n",
       "  <th>Skew:</th>          <td>-0.523</td> <th>  Prob(JB):          </th> <td>8.39e-12</td>\n",
       "</tr>\n",
       "<tr>\n",
       "  <th>Kurtosis:</th>      <td> 3.527</td> <th>  Cond. No.          </th> <td>    75.0</td>\n",
       "</tr>\n",
       "</table>"
      ],
      "text/plain": [
       "<class 'statsmodels.iolib.summary.Summary'>\n",
       "\"\"\"\n",
       "                            OLS Regression Results                            \n",
       "==============================================================================\n",
       "Dep. Variable:                  logen   R-squared:                       0.355\n",
       "Model:                            OLS   Adj. R-squared:                  0.354\n",
       "Method:                 Least Squares   F-statistic:                     489.2\n",
       "Date:                Sun, 28 Oct 2018   Prob (F-statistic):           1.00e-86\n",
       "Time:                        20:17:11   Log-Likelihood:                -1809.2\n",
       "No. Observations:                 892   AIC:                             3622.\n",
       "Df Residuals:                     890   BIC:                             3632.\n",
       "Df Model:                           1                                         \n",
       "Covariance Type:            nonrobust                                         \n",
       "==============================================================================\n",
       "                 coef    std err          t      P>|t|      [0.025      0.975]\n",
       "------------------------------------------------------------------------------\n",
       "Intercept      3.5802      0.611      5.863      0.000       2.382       4.779\n",
       "logcorpus      1.8159      0.082     22.117      0.000       1.655       1.977\n",
       "==============================================================================\n",
       "Omnibus:                       44.215   Durbin-Watson:                   2.007\n",
       "Prob(Omnibus):                  0.000   Jarque-Bera (JB):               51.007\n",
       "Skew:                          -0.523   Prob(JB):                     8.39e-12\n",
       "Kurtosis:                       3.527   Cond. No.                         75.0\n",
       "==============================================================================\n",
       "\n",
       "Warnings:\n",
       "[1] Standard Errors assume that the covariance matrix of the errors is correctly specified.\n",
       "\"\"\""
      ]
     },
     "execution_count": 57,
     "metadata": {},
     "output_type": "execute_result"
    },
    {
     "data": {
      "text/plain": [
       "<matplotlib.figure.Figure at 0x1c1aa9d4e0>"
      ]
     },
     "metadata": {},
     "output_type": "display_data"
    }
   ],
   "source": [
    "import wordfreq\n",
    "import matplotlib.pyplot as plt\n",
    "import numpy as np\n",
    "import statsmodels.api as sm\n",
    "import pandas as pd\n",
    "\n",
    "#for i in range(1, 20):\n",
    "#    print(wordfreq.random_words(lang='en', wordlist='best', nwords=5, bits_per_word=12))\n",
    "\n",
    "corpus = \"\"\n",
    "with open(\"corpus.txt\", \"r\") as file:\n",
    "    for line in file:\n",
    "        corpus += \" \" + line\n",
    "\n",
    "wordlist = wordfreq.tokenize(corpus, 'en')\n",
    "length = len(wordlist)\n",
    "freqlist = [(x, wordlist.count(x)) for x in set(wordlist)]\n",
    "freqlist.sort(key = lambda x: x[1])\n",
    "freqmap = [(np.log(wordfreq.word_frequency(x[0], 'en')), np.log(x[1] / length)) for x in freqlist]\n",
    "xy = list(zip(*freqmap))\n",
    "plt.figure()\n",
    "#plt.plot(*xy, 'b.')\n",
    "dfxy = pd.DataFrame(xy).T\n",
    "dfxy.columns = ['logen', 'logcorpus']\n",
    "dfxy = dfxy.replace([np.inf, -np.inf], np.nan).dropna()\n",
    "#print(dfxy)\n",
    "model = sm.OLS.from_formula('logen ~ logcorpus', dfxy) \n",
    "regr = model.fit()\n",
    "regr.summary()"
   ]
  },
  {
   "cell_type": "code",
   "execution_count": 93,
   "metadata": {},
   "outputs": [],
   "source": [
    "# The number is positive if the predicted dictionary frequency (as predicted from the incidence in the corpus) \n",
    "# is greater than the actual dictionary frequency\n",
    "weightlist = [(x[0], regr.predict(pd.Series([np.log(x[1] / length)], name='logcorpus')).iloc[0] - \\\n",
    "        np.log(wordfreq.word_frequency(x[0], 'en')) \\\n",
    "        ) for x in freqlist if x[1] > 2]"
   ]
  },
  {
   "cell_type": "code",
   "execution_count": 94,
   "metadata": {},
   "outputs": [
    {
     "name": "stdout",
     "output_type": "stream",
     "text": [
      "[('i', -4.208454502782139), ('an', -2.9181747949018373), ('your', -2.756484022801291), ('was', -2.658045316069532), ('just', -2.5951330903216414), ('were', -2.501378120784123), ('out', -2.4797790089806613), ('there', -2.4120330204482734), ('from', -2.1752433736804866), ('some', -2.089482122345668), ('up', -2.0043000259545822), ('which', -1.912732832429092), ('over', -1.7909891337896715), ('may', -1.671029818710693), ('where', -1.671029818710693), ('most', -1.6512271914145131), ('them', -1.5670862195318378), ('more', -1.5301054123069013), ('many', -1.467304353253584), ('at', -1.4593949189281714), ('off', -1.4442030219801865), ('by', -1.4366901252344144), ('say', -1.3976244326155944), ('life', -1.3976244326155944), ('last', -1.2830578680500455), ('man', -1.2830578680500455), ('between', -1.2372257522840622), ('you', -1.133281488706313), ('as', -1.111585032790777), ('old', -1.0749737623260671), ('only', -1.0457130456090669), ('time', -1.0396588586839588), ('know', -0.9782717648135337), ('be', -0.9760197183894483), ('before', -0.9674881381919196), ('do', -0.9627875268103239), ('with', -0.9458100584397409), ('when', -0.9411884150068621), ('no', -0.9411884150068621), ('government', -0.9151725098432912), ('through', -0.8752285298017641), ('all', -0.8532281340391261), ('so', -0.8068519722489755), ('now', -0.8046652674522532), ('in', -0.7714991202707404), ('what', -0.7456284511654898), ('long', -0.691875513401147), ('people', -0.6432648485028842), ('come', -0.6229932063457309), ('on', -0.6200634017235203), ('once', -0.5694720198128262), ('day', -0.5622863960311903), ('small', -0.5455902878094392), ('or', -0.5360407888322483), ('been', -0.5172629558701285), ('it', -0.5098986293291548), ('things', -0.4613518547893154), ('end', -0.41548140072321793), ('god', -0.3695443055361922), ('its', -0.35258586305588313), ('too', -0.30044032771761486), ('work', -0.2771447651140928), ('for', -0.2748833075827841), ('hope', -0.2689248515641598), ('their', -0.24885951547927032), ('not', -0.24659379820517557), ('history', -0.24473012297710284), ('have', -0.22292405411927074), ('world', -0.20863277846449169), ('question', -0.19879302779007801), ('than', -0.19224321298070368), ('rather', -0.13254364224887638), ('future', -0.1094479274542266), ('women', -0.09319379909396108), ('father', -0.08580616439718725), ('short', -0.0615919062765915), ('power', -0.04707611699899594), ('can', -0.02527303568413508), ('far', -0.0018195254108750447), ('force', 0.004254659520993798), ('hard', 0.023181776794542586), ('men', 0.023181776794542586), ('across', 0.09747278835309459), ('moment', 0.09747278835309459), ('because', 0.11003765889222983), ('shall', 0.12072965051736162), ('new', 0.131500440822526), ('these', 0.20395811297468658), ('upon', 0.2131029706483769), ('a', 0.2523221971816665), ('are', 0.26203728767718637), ('this', 0.2826518563996441), ('has', 0.29588404797876855), ('they', 0.3230255233053585), ('who', 0.3395591114814307), ('but', 0.36579756732752156), ('whether', 0.3898522605649539), ('is', 0.4187161695588264), ('forward', 0.4202461806161466), ('earth', 0.4202461806161466), ('meet', 0.5059244318177072), ('will', 0.5656547451889153), ('words', 0.597140440089369), ('today', 0.6658748824098577), ('every', 0.6832255243731966), ('must', 0.6832255243731966), ('to', 0.7543938644147699), ('economy', 0.7894712037091676), ('jobs', 0.7894712037091676), ('let', 0.831539337922977), ('freedom', 0.8583820710138585), ('nations', 0.8820297193145343), ('those', 0.9151379745608459), ('carried', 0.9271114031660392), ('less', 1.0143751657490938), ('of', 1.0165735773332627), ('peace', 1.0604251190863607), ('that', 1.0695259861339652), ('the', 1.158267924837701), ('greater', 1.1970224313327176), ('americans', 1.2731150860528047), ('common', 1.356144363142187), ('journey', 1.4344297896674654), ('ourselves', 1.4791799854660805), ('cannot', 1.6323977397703455), ('and', 1.7076990044093612), ('crisis', 1.7715908051489837), ('nor', 1.8787102002401426), ('spirit', 1.9019194331505123), ('seek', 1.9789504887619316), ('generation', 1.9929569856845433), ('us', 2.027701785411262), ('america', 2.0403832914064317), ('courage', 2.1700414507451686), ('generations', 2.2167789285968595), ('we', 2.6681040385530617), ('prosperity', 2.9051528304041465), ('oath', 3.115286144982342), ('nation', 3.3526238893186484), ('ideals', 3.4368292496503283), ('our', 3.684100890081689)]\n"
     ]
    }
   ],
   "source": [
    "weightlist.sort(key = lambda x: x[1])\n",
    "print(weightlist)"
   ]
  },
  {
   "cell_type": "code",
   "execution_count": null,
   "metadata": {},
   "outputs": [],
   "source": []
  }
 ],
 "metadata": {
  "kernelspec": {
   "display_name": "Python 3",
   "language": "python",
   "name": "python3"
  },
  "language_info": {
   "codemirror_mode": {
    "name": "ipython",
    "version": 3
   },
   "file_extension": ".py",
   "mimetype": "text/x-python",
   "name": "python",
   "nbconvert_exporter": "python",
   "pygments_lexer": "ipython3",
   "version": "3.6.4"
  }
 },
 "nbformat": 4,
 "nbformat_minor": 2
}
