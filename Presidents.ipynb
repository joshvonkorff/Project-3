{
 "cells": [
  {
   "cell_type": "code",
   "execution_count": 32,
   "metadata": {},
   "outputs": [],
   "source": [
    "from bs4 import BeautifulSoup\n",
    "import requests\n",
    "import re\n",
    "import pprint\n",
    "import wordfreq\n",
    "import matplotlib.pyplot as plt\n",
    "import numpy as np\n",
    "import statsmodels.api as sm\n",
    "import pandas as pd\n",
    "import random\n",
    "import datetime\n",
    "from sklearn.cluster import SpectralClustering\n",
    "from sklearn.metrics import silhouette_score\n",
    "import seaborn as sns"
   ]
  },
  {
   "cell_type": "markdown",
   "metadata": {},
   "source": [
    "These functions are meant to extract presidential speeches from the site millercenter.org.  get_president(N) finds the Nth president and returns a \"speeches\" variable that is a list containing the text of each speech by that president.  The president's number is 0-indexed, so George Washington is president number 0, while Donald Trump is president number 43.  Grover Cleveland is only counted once, as president number 21, although he was elected twice to nonconsecutive term.  This convention is followed throughout."
   ]
  },
  {
   "cell_type": "code",
   "execution_count": 33,
   "metadata": {},
   "outputs": [],
   "source": [
    "# The 0th president (Washington) is actually numbered 44 on millercenter.org.  Thus, we have to convert\n",
    "# the president's number 0 through 43 into a number suitable for millercenter.org.  Trump is, randomly enough\n",
    "# president number 8396.\n",
    "# The 21st and 23rd president would ordinarily both be Cleveland, but Cleveland is only counted once.\n",
    "# #23 is considered to be Harrison; that means there are only 44 presidents\n",
    "def pres_numbers_list():\n",
    "    return [44, 45] + [3, 4] + [141] + list(range(6, 44)) + [8396]\n",
    "\n",
    "def get_pres_name(N):\n",
    "    return [\"George Washington\", \"John Adams\", \"Thomas Jefferson\", \"James Madison\", \"James Monroe\", \"John Quincy Adams\",\\\n",
    "           \"Andrew Jackson\", \"Martin van Buren\", \"William Harrison\", \"John Tyler\", \"James K. Polk\", \"Zachary Taylor\",\\\n",
    "           \"Millard Fillmore\", \"Franklin Pierce\", \"James Buchanan\", \"Abraham Lincoln\", \"Andrew Johnson\",\\\n",
    "           \"Ulysses S. Grant\", \"Rutherford B. Hayes\", \"James A. Garfield\", \"Chester A. Arthur\", \"Grover Cleveland\",\\\n",
    "           \"Benjamin Harrison\", \"William McKinley\", \"Theodore Roosevelt\", \"William Taft\", \"Woodrow Wilson\",\\\n",
    "           \"Warren G. Harding\", \"Calvin Coolidge\", \"Herbert Hoover\", \"Franklin D. Roosevelt\", \"Harry S. Truman\",\\\n",
    "           \"Dwight D. Eisenhower\", \"John F. Kennedy\", \"Lyndon B. Johnson\", \"Richard Nixon\", \"Gerald Ford\",\\\n",
    "           \"Jimmy Carter\", \"Ronald Reagan\", \"George H. W. Bush\", \"Bill Clinton\", \"George W. Bush\", \"Barack Obama\",\\\n",
    "           \"Donald Trump\"][N]\n",
    "\n",
    "def get_president(N):\n",
    "    if N < 0 or N > 43:\n",
    "        print(\"Error: no president\", N)\n",
    "        return list()\n",
    "    N = pres_numbers_list()[N]\n",
    "    millerpage = f\"https://millercenter.org/the-presidency/presidential-speeches?field_president_target_id[{N}]={N}\"\n",
    "    page = requests.get(millerpage)\n",
    "    soup = BeautifulSoup(page.content, 'html.parser')\n",
    "    #dummy = 'a href=\"/the-presidency/presidential-speeches'\n",
    "    speechlist = soup.find_all(href=re.compile('/the-presidency/presidential-speeches/'))\n",
    "    URLlist = [\"https://millercenter.org\" + x['href'] for x in speechlist]\n",
    "    #pprint.pprint(URLlist)\n",
    "    speeches = list()\n",
    "    n = -1\n",
    "    for URL in URLlist:\n",
    "        n = n + 1\n",
    "        page = requests.get(URL)\n",
    "        soup = BeautifulSoup(page.content, 'html.parser')\n",
    "        for e in soup.find_all('br'):\n",
    "            e.replace_with('\\n')\n",
    "        x = soup('h3', text=\"Transcript\")\n",
    "        listofps = x[0].parent.findChildren('p')\n",
    "        #print([type(p.contents[0]) for p in listofps])\n",
    "        #string = string.replace(u'\\xa0', u' ')\n",
    "        # print([p.contents[0].name for p in listofps])\n",
    "        textofspeech = \" \".join([\" \".join([c for c in p.contents if not c.name]) for p in listofps])\n",
    "        # Replace funny single quote #8217 with single quote #39\n",
    "        textofspeech = textofspeech.replace('\\’', \"'\")\n",
    "        textofspeech = textofspeech.replace(\"\\'\", \"'\")\n",
    "        speeches.append(textofspeech)\n",
    "    return speeches\n",
    "\n",
    "def count_speeches():\n",
    "    num_speeches = 0\n",
    "    for N in range(0, 44):\n",
    "        num_speeches += len(get_president(N))\n",
    "        print(N, num_speeches)\n",
    "    print(\"Total:\", num_speeches)\n",
    "    print(num_speeches/44)"
   ]
  },
  {
   "cell_type": "markdown",
   "metadata": {},
   "source": [
    "get_overrep_words takes a list of the text of each speech, and returns a dictionary of potentially \"overrepresented words\" the form:\n",
    "\n",
    "d[word] = weight\n",
    "\n",
    "The \"weight\" for each word measures, in part, how \"overrepresented\" each word is in the speech corpus of a given president.\n",
    "\n",
    "This weight is calculated as follows.  The goal is to have a weight that reflects (1) the word's frequency in the English language compared with other words that have a similar frequency in the corpus, (2) the overall frequency of the word in the speech corpus.  Thus, a word that is highly unusual (\"supercalifragilisticexpealidocious\") but only appears twice in the speech corpus is only of moderate interest; likewise, a word that is very common, but appears only the usual amount in the corpus (\"the\") is also only of moderate interest.  The weight for each word is computed as a sum of logs of these two factors.\n",
    "\n",
    "Getting into the details: To compute the weight, the incidence count of the word is first tallied in the combined speeches of a president.\n",
    "\n",
    "Using the wordfreq library, each word's frequency in English is obtained (actually the log of the frequency), so that it can be compared with the log of the frequency in the speeches.\n",
    "\n",
    "Using the statsmodels library, a least squares regression is used to find the linear relationship between these two logs.\n",
    "\n",
    "This linear relationship can then be used to compute the predicted English frequency for a word that has the given corpus frequency.  This predicted English frequency can be compared to the word's actual English frequency.  The difference between predicted and actual (using subtraction of the logs) is essentially the desired meatric.  A weight value of 1 would mean that the word is \"e\" times less common in English than other words of a similar corpus frequency.\n",
    "\n",
    "Next, the number of words in each set of speeches can range from 20,000 to 800,000, so the number of appearances is multiplied by (800,000 / length) to get the number that would appear in 800,000.  Then, the log is taken.  This number is added to the weight to get the final weight value.  This takes into account that we care more about words that appear many times as opposed to only once."
   ]
  },
  {
   "cell_type": "code",
   "execution_count": 34,
   "metadata": {},
   "outputs": [],
   "source": [
    "def get_overrep_words(speeches, makeplot = False):\n",
    "    speeches_combined = \" \".join(speeches)\n",
    "    wordlist = wordfreq.tokenize(speeches_combined, 'en')\n",
    "    length = len(wordlist)\n",
    "    print(\"Length of speeches:\", length)\n",
    "    freqlist = [(x, wordlist.count(x)) for x in set(wordlist)]\n",
    "    freqlist.sort(key = lambda x: x[1])\n",
    "    freqmap = [(np.log(wordfreq.word_frequency(x[0], 'en')), np.log(x[1] / length)) for x in freqlist]\n",
    "    xy = list(zip(*freqmap))\n",
    "    #plt.figure()\n",
    "    #plt.plot(*xy, 'b.')\n",
    "    dfxy = pd.DataFrame(xy).T\n",
    "    dfxy.columns = ['logen', 'logcorpus']\n",
    "    dfxy = dfxy.replace([np.inf, -np.inf], np.nan).dropna()\n",
    "    #print(dfxy)\n",
    "    if makeplot:\n",
    "        ax = dfxy.plot(x='logcorpus', y='logen', title = 'log-log plot to predict English frequency', style='b.')\n",
    "        plt.xlabel('log of corpus frequency')\n",
    "        plt.ylabel('log of English frequency')\n",
    "        \n",
    "    model = sm.OLS.from_formula('logen ~ logcorpus', dfxy) \n",
    "    regr = model.fit()\n",
    "    #regr.summary()\n",
    "    \n",
    "    if makeplot:\n",
    "        # Plot linear fit\n",
    "        p = regr.params\n",
    "        x0 = -12\n",
    "        x1 = -1\n",
    "        x = np.arange(0, 2) * (x1 - x0) + x0\n",
    "        ax.plot(x, p.Intercept + p.logcorpus * x, 'k-')\n",
    "        plt.gcf().savefig(\"logen_plot.png\")\n",
    "\n",
    "    # Replace funny single quote #8217 with single quote #39\n",
    "    freqlist = [(x[0].replace('’', \"'\"), x[1]) for x in freqlist]\n",
    "    \n",
    "    # An item in this list is: (word, weight, corpus frequency)\n",
    "    weightlist = [(x[0], (regr.predict(pd.Series([np.log(x[1] / length)], name='logcorpus')).iloc[0] - \\\n",
    "            np.log(wordfreq.word_frequency(x[0], 'en'))) + np.log(x[1] * 140000 / length), \\\n",
    "            np.log(x[1] / length)\n",
    "            ) for x in freqlist if ((x[1] * 140000 / length > 1) and x[0] != 'applause' and x[0] != 'laughter' and x[0] != 'booo')]\n",
    "    \n",
    "    if makeplot:\n",
    "        plt.figure()\n",
    "        plt.plot([x[2] for x in weightlist], [x[1] for x in weightlist], 'k.')\n",
    "        plt.title('weight vs. log corpus frequency')\n",
    "        plt.xlabel('log of corpus frequency')\n",
    "        plt.ylabel('assigned weight')\n",
    "        plt.gcf().savefig(\"weight_plot.png\")\n",
    "        \n",
    "    return {x[0]: x[1] for x in weightlist if (x[1] > 1 and not np.isinf(x[1]))}"
   ]
  },
  {
   "cell_type": "code",
   "execution_count": 28,
   "metadata": {},
   "outputs": [
    {
     "name": "stdout",
     "output_type": "stream",
     "text": [
      "Theodore Roosevelt\n",
      "Length of speeches: 137013\n"
     ]
    },
    {
     "name": "stderr",
     "output_type": "stream",
     "text": [
      "/anaconda3/lib/python3.6/site-packages/ipykernel_launcher.py:8: RuntimeWarning: divide by zero encountered in log\n",
      "  \n",
      "/anaconda3/lib/python3.6/site-packages/ipykernel_launcher.py:39: RuntimeWarning: divide by zero encountered in log\n"
     ]
    }
   ],
   "source": [
    "print(get_pres_name(24))\n",
    "_ = get_overrep_words(get_president(24), makeplot = False)"
   ]
  },
  {
   "cell_type": "code",
   "execution_count": 31,
   "metadata": {},
   "outputs": [
    {
     "name": "stdout",
     "output_type": "stream",
     "text": [
      "James K. Polk\n",
      "Length of speeches: 54804\n"
     ]
    },
    {
     "name": "stderr",
     "output_type": "stream",
     "text": [
      "/anaconda3/lib/python3.6/site-packages/ipykernel_launcher.py:8: RuntimeWarning: divide by zero encountered in log\n",
      "  \n",
      "/anaconda3/lib/python3.6/site-packages/ipykernel_launcher.py:39: RuntimeWarning: divide by zero encountered in log\n"
     ]
    },
    {
     "data": {
      "image/png": "[encoded data removed]",
      "text/plain": [
       "<matplotlib.figure.Figure at 0x115e8f6d8>"
      ]
     },
     "metadata": {},
     "output_type": "display_data"
    },
    {
     "data": {
      "image/png": "[encoded data removed]",
      "text/plain": [
       "<matplotlib.figure.Figure at 0x1c2c9fe4a8>"
      ]
     },
     "metadata": {},
     "output_type": "display_data"
    }
   ],
   "source": [
    "print(get_pres_name(10))\n",
    "_ = get_overrep_words(get_president(10), makeplot = True)"
   ]
  },
  {
   "cell_type": "code",
   "execution_count": 35,
   "metadata": {},
   "outputs": [],
   "source": [
    "def make_two_speech_lists(speeches):\n",
    "    lst1 = np.random.choice(speeches, size=int(len(speeches)/2), replace=False)\n",
    "    lst2 = [x for x in speeches if not (x in lst1)]\n",
    "    return (lst1, lst2)"
   ]
  },
  {
   "cell_type": "markdown",
   "metadata": {},
   "source": [
    "get_paired_words returns a list of the form:\n",
    "\n",
    "[(word1, sim1), (word2, sim2), ...]\n",
    "\n",
    "Where the similarity score (sim1) for word 1 is the minimum of the word's weight for president M and for president N.  Only words that appear in both president M and president N's speeches will get a score.\n",
    "\n",
    "get_similarity finds the total similarity score by adding them up.\n",
    "\n",
    "The result is a similarity score that compares the two presidents.  If the presidents share more words in common (and with higher weights), then their similarity score will tend to be higher."
   ]
  },
  {
   "cell_type": "code",
   "execution_count": 36,
   "metadata": {},
   "outputs": [],
   "source": [
    "def get_paired_words(overrep_words, M, N):\n",
    "    if M < 0 or M >= len(overrep_words) or N < 0 or N >= len(overrep_words):\n",
    "        print(\"M or N is out of bounds in get_paired_words.\")\n",
    "        return list()\n",
    "    paired_words = list()\n",
    "    for x in overrep_words[M]:\n",
    "        if x in overrep_words[N]:\n",
    "            paired_words.append((x, min(overrep_words[M][x],overrep_words[N][x])))\n",
    "    return paired_words\n",
    "\n",
    "def get_similarity(overrep_words, M, N):\n",
    "    pw = get_paired_words(overrep_words, M, N)\n",
    "    total = sum(x[1] for x in pw if x[1] > 0)\n",
    "    return total"
   ]
  },
  {
   "cell_type": "markdown",
   "metadata": {},
   "source": [
    "This code loops through a range of presidents, getting a list of overrepresented words (with their weights) for each."
   ]
  },
  {
   "cell_type": "code",
   "execution_count": 37,
   "metadata": {},
   "outputs": [
    {
     "name": "stdout",
     "output_type": "stream",
     "text": [
      "George Washington\n",
      "Length of speeches: 14461\n"
     ]
    },
    {
     "name": "stderr",
     "output_type": "stream",
     "text": [
      "/anaconda3/lib/python3.6/site-packages/ipykernel_launcher.py:8: RuntimeWarning: divide by zero encountered in log\n",
      "  \n",
      "/anaconda3/lib/python3.6/site-packages/ipykernel_launcher.py:39: RuntimeWarning: divide by zero encountered in log\n"
     ]
    },
    {
     "name": "stdout",
     "output_type": "stream",
     "text": [
      "Length of speeches: 6573\n",
      "John Adams\n",
      "Length of speeches: 7223\n",
      "Length of speeches: 7467\n",
      "Thomas Jefferson\n",
      "Length of speeches: 9301\n",
      "Length of speeches: 10110\n",
      "James Madison\n",
      "Length of speeches: 11378\n",
      "Length of speeches: 11489\n",
      "James Monroe\n",
      "Length of speeches: 24429\n",
      "Length of speeches: 25774\n",
      "John Quincy Adams\n",
      "Length of speeches: 19986\n",
      "Length of speeches: 17056\n",
      "Andrew Jackson\n",
      "Length of speeches: 32792\n",
      "Length of speeches: 53263\n",
      "Martin van Buren\n",
      "Length of speeches: 26927\n",
      "Length of speeches: 38011\n",
      "William Harrison\n",
      "Only one (testing) speech for president  8\n",
      "Length of speeches: 8459\n",
      "Length of speeches: 8459\n",
      "John Tyler\n",
      "Length of speeches: 24804\n",
      "Length of speeches: 21698\n",
      "James K. Polk\n",
      "Length of speeches: 29075\n",
      "Length of speeches: 25729\n",
      "Zachary Taylor\n",
      "Length of speeches: 2077\n",
      "Length of speeches: 9318\n",
      "Millard Fillmore\n",
      "Length of speeches: 9277\n",
      "Length of speeches: 29757\n",
      "Franklin Pierce\n",
      "Length of speeches: 27748\n",
      "Length of speeches: 22769\n",
      "James Buchanan\n",
      "Length of speeches: 38361\n",
      "Length of speeches: 26529\n",
      "Abraham Lincoln\n",
      "Length of speeches: 12015\n",
      "Length of speeches: 30597\n",
      "Andrew Johnson\n",
      "Length of speeches: 24700\n",
      "Length of speeches: 27504\n",
      "Ulysses S. Grant\n",
      "Length of speeches: 20170\n",
      "Length of speeches: 31050\n",
      "Rutherford B. Hayes\n",
      "Length of speeches: 31387\n",
      "Length of speeches: 23077\n",
      "James A. Garfield\n",
      "Only one (testing) speech for president  19\n",
      "Length of speeches: 2970\n",
      "Length of speeches: 2970\n",
      "Chester A. Arthur\n",
      "Length of speeches: 17041\n",
      "Length of speeches: 33095\n",
      "Grover Cleveland\n",
      "Length of speeches: 5183\n",
      "Length of speeches: 49862\n",
      "Benjamin Harrison\n",
      "Length of speeches: 50617\n",
      "Length of speeches: 33599\n",
      "William McKinley\n",
      "Length of speeches: 24789\n",
      "Length of speeches: 63454\n",
      "Theodore Roosevelt\n",
      "Length of speeches: 57137\n",
      "Length of speeches: 79876\n",
      "William Taft\n",
      "Length of speeches: 94936\n",
      "Length of speeches: 26866\n",
      "Woodrow Wilson\n",
      "Length of speeches: 13985\n",
      "Length of speeches: 18828\n",
      "Warren G. Harding\n",
      "Length of speeches: 3111\n",
      "Length of speeches: 16325\n",
      "Calvin Coolidge\n",
      "Length of speeches: 31483\n",
      "Length of speeches: 43044\n",
      "Herbert Hoover\n",
      "Length of speeches: 20214\n",
      "Length of speeches: 20403\n",
      "Franklin D. Roosevelt\n",
      "Length of speeches: 17346\n",
      "Length of speeches: 10944\n",
      "Harry S. Truman\n",
      "Length of speeches: 12605\n",
      "Length of speeches: 10474\n",
      "Dwight D. Eisenhower\n",
      "Length of speeches: 8350\n",
      "Length of speeches: 9758\n",
      "John F. Kennedy\n",
      "Length of speeches: 15526\n",
      "Length of speeches: 16091\n",
      "Lyndon B. Johnson\n",
      "Length of speeches: 33562\n",
      "Length of speeches: 17333\n",
      "Richard Nixon\n",
      "Length of speeches: 16321\n",
      "Length of speeches: 15645\n",
      "Gerald Ford\n",
      "Length of speeches: 23120\n",
      "Length of speeches: 15579\n",
      "Jimmy Carter\n",
      "Length of speeches: 28720\n",
      "Length of speeches: 15481\n",
      "Ronald Reagan\n",
      "Length of speeches: 19371\n",
      "Length of speeches: 24738\n",
      "George H. W. Bush\n",
      "Length of speeches: 31079\n",
      "Length of speeches: 25707\n",
      "Bill Clinton\n",
      "Length of speeches: 19952\n",
      "Length of speeches: 22159\n",
      "George W. Bush\n",
      "Length of speeches: 25359\n",
      "Length of speeches: 16138\n",
      "Barack Obama\n",
      "Length of speeches: 25002\n",
      "Length of speeches: 28042\n",
      "Donald Trump\n",
      "Length of speeches: 26328\n",
      "Length of speeches: 24316\n"
     ]
    }
   ],
   "source": [
    "NUMP = 44\n",
    "\n",
    "holdout = True\n",
    "\n",
    "random.seed(datetime.datetime.now())\n",
    "\n",
    "def generate_overrep_words(NUMP):\n",
    "\n",
    "    overrep_words = list()\n",
    "    overrep_words_test = list()\n",
    "\n",
    "    for N in range(44 - NUMP, 44):\n",
    "        print(get_pres_name(N))\n",
    "        speeches = get_president(N)\n",
    "        sp_train, sp_test = make_two_speech_lists(speeches)\n",
    "        if holdout:\n",
    "            if len(sp_train) == 0:\n",
    "                sp_train = sp_test.copy()\n",
    "                print(\"Only one (testing) speech for president \", N)\n",
    "            if len(sp_test) == 0:\n",
    "                sp_test = sp_train.copy()\n",
    "                print(\"Only one (training) speech for president \", N)\n",
    "            ov = get_overrep_words(sp_train)\n",
    "            ov_test = get_overrep_words(sp_test)\n",
    "            overrep_words.append(ov)\n",
    "            overrep_words_test.append(ov_test)\n",
    "        else:\n",
    "            ov = get_overrep_words(speeches)\n",
    "            overrep_words.append(ov)\n",
    "            \n",
    "    return overrep_words, overrep_words_test\n",
    "    \n",
    "overrep_words, overrep_words_test = generate_overrep_words(NUMP)"
   ]
  },
  {
   "cell_type": "markdown",
   "metadata": {},
   "source": [
    "Create a similarity matrix such that X[i,j] is the similarity of presidents i and j.  Then use SpectralClustering to perform the clustering.  A silhouette score is computed."
   ]
  },
  {
   "cell_type": "code",
   "execution_count": 38,
   "metadata": {
    "scrolled": true
   },
   "outputs": [],
   "source": [
    "def similarity_matrix(overrep_words):\n",
    "    X = np.zeros((NUMP, NUMP))\n",
    "    for i in range(0, NUMP):\n",
    "        for j in range(0, i):\n",
    "            X[i,j] = get_similarity(overrep_words, i, j)\n",
    "            X[j,i] = X[i,j]\n",
    "    return X\n",
    "\n",
    "def spectral_cluster(overrep_words, overrep_words_test, n_clusters, holdout = True):\n",
    "    \n",
    "    X = similarity_matrix(overrep_words)\n",
    "    clustering = SpectralClustering(n_clusters=n_clusters, affinity=\"precomputed\", assign_labels=\"discretize\").fit(X)\n",
    "\n",
    "    if holdout:\n",
    "        X_test = similarity_matrix(overrep_words_test)\n",
    "        clustering_test = SpectralClustering(n_clusters=n_clusters, affinity=\"precomputed\", assign_labels=\"discretize\").fit(X_test)\n",
    "        coeff = 0.5*(np.std(X) + np.std(X_test))\n",
    "    else:\n",
    "        coeff = np.std(X)\n",
    "\n",
    "    if holdout:\n",
    "        sil = 0.5*(silhouette_score(np.exp(-X/coeff) - np.eye(len(overrep_words)), clustering.labels_, metric=\"precomputed\") \\\n",
    "                   + silhouette_score(np.exp(-X_test/coeff) - np.eye(len(overrep_words)), clustering_test.labels_, metric=\"precomputed\"))\n",
    "    else:\n",
    "        sil = silhouette_score(np.exp(-X_avg/coeff) - np.eye(len(overrep_words)), clustering.labels_, metric=\"precomputed\")\n",
    "       \n",
    "    return clustering.labels_, clustering_test.labels_, sil"
   ]
  },
  {
   "cell_type": "markdown",
   "metadata": {},
   "source": [
    "Find the silhouette coefficient for each number of clusters."
   ]
  },
  {
   "cell_type": "code",
   "execution_count": 39,
   "metadata": {},
   "outputs": [
    {
     "name": "stdout",
     "output_type": "stream",
     "text": [
      "For 2 clusters, silhouette coefficient is 0.5383400569918411\n",
      "For 3 clusters, silhouette coefficient is 0.19575429668877892\n",
      "For 4 clusters, silhouette coefficient is 0.10403277417843429\n",
      "For 5 clusters, silhouette coefficient is 0.0669981254432348\n",
      "For 6 clusters, silhouette coefficient is 0.0848467639902841\n",
      "For 7 clusters, silhouette coefficient is 0.0759477799023491\n"
     ]
    }
   ],
   "source": [
    "for n_clusters in range(2, 8):\n",
    "    sil_total = 0\n",
    "    num_iter = 4\n",
    "    for i in range(0, num_iter):\n",
    "        lab1, lab2, sil = spectral_cluster(overrep_words, overrep_words_test, n_clusters, holdout = True)\n",
    "        sil_total += sil\n",
    "    print(f\"For {n_clusters} clusters, silhouette coefficient is {sil_total/num_iter}\")"
   ]
  },
  {
   "cell_type": "markdown",
   "metadata": {},
   "source": [
    "Find the cluster labels for the two sets of data using 3 clusters."
   ]
  },
  {
   "cell_type": "code",
   "execution_count": 40,
   "metadata": {},
   "outputs": [
    {
     "name": "stdout",
     "output_type": "stream",
     "text": [
      "[2 2 2 2 2 2 2 2 2 2 2 2 2 2 2 2 0 0 0 2 0 0 0 0 0 0 2 1 0 0 1 1 1 1 1 1 1\n",
      " 1 1 1 1 1 1 1]\n",
      "[2 2 2 2 2 2 2 2 2 2 2 2 2 2 2 2 2 0 0 1 0 0 0 0 0 0 0 0 0 0 1 1 1 1 1 1 1\n",
      " 1 1 1 1 1 1 1]\n"
     ]
    }
   ],
   "source": [
    "lab1, lab2, sil = spectral_cluster(overrep_words, overrep_words_test, 3, holdout = True)\n",
    "print(lab1)\n",
    "print(lab2)"
   ]
  },
  {
   "cell_type": "markdown",
   "metadata": {},
   "source": [
    "compute_cluster_overlap will compute the overlap between the training and testing data.  The overlap is defined by assuming that each cluster in the training data corresponds to the cluster(s) in the testing data with the best fit (the maximum overlap.)  Then, the number of presidents whose training cluster matches their testing cluster is counted."
   ]
  },
  {
   "cell_type": "code",
   "execution_count": 41,
   "metadata": {},
   "outputs": [
    {
     "name": "stdout",
     "output_type": "stream",
     "text": [
      "Correspondence (training cluster: testing cluster): {0: 0, 1: 1, 2: 2}\n",
      "Overlap ratio: 40 out of 44\n"
     ]
    },
    {
     "data": {
      "text/plain": [
       "(40, 44)"
      ]
     },
     "execution_count": 41,
     "metadata": {},
     "output_type": "execute_result"
    }
   ],
   "source": [
    "def compute_cluster_overlap(labels1, labels2):\n",
    "    if len(labels1) != len(labels2):\n",
    "        print(\"Error in compute_cluster_overlap: labels1, labels2 not same length.\")\n",
    "        return\n",
    "    corresp = dict()\n",
    "    for lab1 in set(labels1):\n",
    "        ct = dict()\n",
    "        for lab2 in set(labels2):\n",
    "            for i in range(len(labels1)):\n",
    "                ct.setdefault(lab2, 0)\n",
    "                if labels1[i] == lab1 and labels2[i] == lab2:\n",
    "                    ct[lab2] += 1\n",
    "        ctreverse={v:k for k,v in ct.items()}\n",
    "        corresp[lab1] = ctreverse[max(ctreverse)]\n",
    "    total = 0\n",
    "    for i in range(len(labels1)):\n",
    "        if labels2[i] == corresp[labels1[i]]:\n",
    "            total += 1\n",
    "    print(\"Correspondence (training cluster: testing cluster):\", corresp)\n",
    "    print(\"Overlap ratio:\", total, \"out of\", len(labels1))        \n",
    "    return total, len(labels1)\n",
    "\n",
    "compute_cluster_overlap(lab1, lab2)"
   ]
  },
  {
   "cell_type": "markdown",
   "metadata": {},
   "source": [
    "These functions make use of only the \"training\" data due to the holdout (or all of the data, if you have set holdout = False).\n",
    "\n",
    "get_inlist will make a list of the numbers of the president that belong to the ith cluster in the training set (zero indexed this time.)\n",
    "\n",
    "get_characteristic_words accepts as an argument a list of president numbers (zero indexed.)  Thus, a list [0, 2, 3] will combine the 0th, 2nd, and 3rd presidents into a group, which is then compared with all presidents not in the list.  You can use get_inlist to generate this list from a cluster number, or you can pick a single president with a single element list like [2].\n",
    "\n",
    "The function finds the median weight in the \"inlist\" and the median weight in the \"outlist,\" subtracting the two to find the score for each word.  In the resulting list, a positive score indicates that a word has a high weight in the inlist, while a negative score indicates that it has a high weight in the outlist.  If there are an odd number of presidents in the list, the median takes the lower of the two middle numbers.\n",
    "\n",
    "Thus, to find the most characteristic words in the inlist, go to the end of the output and look at the words with the highest score"
   ]
  },
  {
   "cell_type": "code",
   "execution_count": 42,
   "metadata": {
    "scrolled": true
   },
   "outputs": [
    {
     "name": "stdout",
     "output_type": "stream",
     "text": [
      "['guaranty', 'amounted', 'disposition', 'ascertaining', 'intercourse', 'reduction', 'speedily', 'bill', 'authorized', 'beneficent', 'deem', 'postal', 'bonds', 'surplus', 'refunding', 'recommendation', 'exactions', 'proclamation', 'earnest', 'treasury', 'tariff', 'enactment', 'arbitration', 'practicable', 'fiscal', 'justly', 'cent', 'evils', 'furnish', 'expended', 'commissioners', 'commission', 'gratifying', 'legation', 'discriminations', 'receipts', 'pursuance', 'appropriation', 'pending', 'commend', 'hereunto', 'satisfactory', 'liberality', 'postmaster', 'earnestly', 'appropriations', 'unexpended', 'heretofore', 'intrusted', 'herewith']\n"
     ]
    }
   ],
   "source": [
    "import statistics\n",
    "\n",
    "def medlow(lst):\n",
    "    sortlst = sorted(lst)\n",
    "    if len(sortlst) % 2 == 0:\n",
    "        return(sortlst[int(len(sortlst) / 2) - 1])\n",
    "    else:\n",
    "        return(sortlst[int(len(sortlst) / 2 - 0.5)])\n",
    "\n",
    "def get_inlist(lab, i):\n",
    "    return [j for j in range(0, len(lab)) if lab[j] == i]\n",
    "    \n",
    "def get_characteristic_words(overrep_words, inlist):\n",
    "    wordscore_in = dict()\n",
    "    wordscore_out = dict()\n",
    "    for k in range(0, len(overrep_words)):\n",
    "        if k in inlist:\n",
    "            for word, score in overrep_words[k].items():\n",
    "                wordscore_in.setdefault(word, list())\n",
    "                wordscore_in[word].append(score)\n",
    "        else:\n",
    "            for word, score in overrep_words[k].items():\n",
    "                wordscore_out.setdefault(word, list())\n",
    "                wordscore_out[word].append(score)\n",
    "    for word in wordscore_in.keys():\n",
    "        for i in range(0, len(inlist) - len(wordscore_in[word])):\n",
    "            wordscore_in[word].append(0)\n",
    "    for word in wordscore_out.keys():\n",
    "        for i in range(0, (len(overrep_words) - len(inlist)) - len(wordscore_out[word])):\n",
    "            wordscore_out[word].append(0)\n",
    "    scorelist = list()\n",
    "    for word in wordscore_in.keys():\n",
    "        med_in = medlow(wordscore_in[word]) if word in wordscore_in.keys() else 0\n",
    "        med_out = medlow(wordscore_out[word]) if word in wordscore_out.keys() else 0\n",
    "        scorelist.append((word, med_in - med_out))\n",
    "    return sorted(scorelist, key = lambda x: x[1])\n",
    "\n",
    "print([x[0] for x in get_characteristic_words(overrep_words, get_inlist(lab1, 0))[-50:]])"
   ]
  },
  {
   "cell_type": "code",
   "execution_count": 43,
   "metadata": {},
   "outputs": [
    {
     "name": "stdout",
     "output_type": "stream",
     "text": [
      "['million', 'freedom', 'better', 'achieve', 'come', 'pledge', 'truman', 'working', 'your', 'decisions', 'effort', 'proud', 'strong', 'want', 'program', 'about', 'asia', 'bipartisan', 'work', 'we', 'help', 'vital', 'cannot', 'let', 'commitment', 'know', 'say', 'ago', 'because', 'weapons', 'economic', 'nuclear', 'leaders', 'world', 'here', 'strengthen', 'forces', 'today', 'jobs', 'tax', 'tonight', 'soviet', 'billion', 'aggression', 'america', 'you', 'allies', \"nation's\", 'americans', \"america's\"]\n"
     ]
    }
   ],
   "source": [
    "print([x[0] for x in get_characteristic_words(overrep_words, get_inlist(lab1, 1))[-50:]])"
   ]
  },
  {
   "cell_type": "code",
   "execution_count": 44,
   "metadata": {
    "scrolled": true
   },
   "outputs": [
    {
     "name": "stdout",
     "output_type": "stream",
     "text": [
      "['communicated', 'objects', 'forbearance', 'authorized', 'britain', 'republics', 'condition', 'furnish', 'deemed', 'commencement', 'guaranty', 'legislature', 'render', 'indispensable', 'execution', 'expediency', 'labors', 'enlightened', 'portion', 'favorable', 'earnestly', 'disposition', 'peculiar', 'hitherto', 'practicable', 'satisfactory', 'amity', 'entertained', 'object', 'revenue', 'receipts', 'speedily', 'justly', 'expedient', 'territories', 'continuance', 'ratifications', 'exigencies', 'propriety', 'vessels', 'effectual', 'expenditures', 'plenipotentiary', 'appropriations', 'herewith', 'intercourse', 'treasury', 'effectually', 'heretofore', 'intrusted']\n"
     ]
    }
   ],
   "source": [
    "print([x[0] for x in get_characteristic_words(overrep_words, get_inlist(lab1, 2))[-50:]])"
   ]
  },
  {
   "cell_type": "code",
   "execution_count": 45,
   "metadata": {},
   "outputs": [
    {
     "name": "stdout",
     "output_type": "stream",
     "text": [
      "[\"heaven's\", \"cj's\", 'celestino', 'cuevas', 'disrupters', 'melania', \"america's\", \"we've\", 'energy', 'hardworking', 'complacent', 'going', 'tax', 'clobbered', 'thank', 'parkland', 'incredible', 'stoneman', 'tenderhearted', 'marjory', 'gorsuch', 'goodlatte', 'autoworkers', 'renegotiating', 'scout', 'cuts', 'levitt', 'tillerson', '2,000k', 'businessperson', 'congresswomen', 'ashlee', 'sempra', \"scouting's\", 'tremendous', 'leppert', \"we're\", \"otto's\", 'levittown', 'jamboree', 'kenton', 'seong', 'staub', 'cpac', 'schwab', 'mickens', 'daca', 'scouts', 'trump', 'zinke']\n"
     ]
    }
   ],
   "source": [
    "print([x[0] for x in get_characteristic_words(overrep_words, [43])[-50:]]) # Trump"
   ]
  },
  {
   "cell_type": "code",
   "execution_count": 46,
   "metadata": {},
   "outputs": [
    {
     "name": "stdout",
     "output_type": "stream",
     "text": [
      "['hymnals', 'weapons', 'tolerably', 'reverend', 'workers', 'wage', 'lowcountry', 'immigrants', 'cynics', 'jobs', 'deporting', 'families', \"that's\", 'impugning', 'pinpricks', 'zika', 'poverty', 'dealbreaker', 'bipartisan', 'mobility', 'crankiness', 'moyers', 'begrudged', \"america's\", 'unhealed', 'zigs', 'antidiscrimination', 'rutgers', 'rancor', 'astrid', 'guadagno', 'burnell', 'retrain', 'americans', 'isil', 'clem', \"we've\", 'undocumented', 'hardworking', 'wahler', 'grace', 'barchi', 'neera', 'edisons', 'assad', 'likelier', 'strivers', \"assad's\", 'inequality', 'pinckney']\n"
     ]
    }
   ],
   "source": [
    "print([x[0] for x in get_characteristic_words(overrep_words, [42])[-50:]]) # Obama"
   ]
  },
  {
   "cell_type": "code",
   "execution_count": null,
   "metadata": {},
   "outputs": [],
   "source": []
  }
 ],
 "metadata": {
  "kernelspec": {
   "display_name": "Python 3",
   "language": "python",
   "name": "python3"
  },
  "language_info": {
   "codemirror_mode": {
    "name": "ipython",
    "version": 3
   },
   "file_extension": ".py",
   "mimetype": "text/x-python",
   "name": "python",
   "nbconvert_exporter": "python",
   "pygments_lexer": "ipython3",
   "version": "3.6.4"
  }
 },
 "nbformat": 4,
 "nbformat_minor": 2
}
