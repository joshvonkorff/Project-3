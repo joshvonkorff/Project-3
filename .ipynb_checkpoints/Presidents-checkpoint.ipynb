{
 "cells": [
  {
   "cell_type": "code",
   "execution_count": 102,
   "metadata": {},
   "outputs": [],
   "source": [
    "from bs4 import BeautifulSoup\n",
    "import requests\n",
    "import re\n",
    "import pprint\n",
    "import wordfreq\n",
    "import matplotlib.pyplot as plt\n",
    "import numpy as np\n",
    "import statsmodels.api as sm\n",
    "import pandas as pd\n",
    "from sklearn.cluster import SpectralClustering"
   ]
  },
  {
   "cell_type": "markdown",
   "metadata": {},
   "source": [
    "These functions are meant to extract presidential speeches from the site millercenter.org.  get_president(N) finds the Nth president and returns a \"speeches\" variable that is a list containing the text of each speech by that president."
   ]
  },
  {
   "cell_type": "code",
   "execution_count": 103,
   "metadata": {},
   "outputs": [],
   "source": [
    "#N = 8396\n",
    "N = 1\n",
    "\n",
    "# The 1st president (Washington) is actually numbered 44 on millercenter.org.  Thus, we have to convert\n",
    "# the president's number 1 through 44 into a number suitable for millercenter.org.  Trump is, randomly enough\n",
    "# president number 8396.\n",
    "# The 22nd and 24th president are ordinarily considered to be Cleveland, Cleveland is only counted once.\n",
    "# #24 is considered to be Harrison; that means there are only 44 presidents\n",
    "def pres_numbers_list():\n",
    "    return [44, 45] + [3, 4] + [141] + list(range(6, 44)) + [8396]\n",
    "\n",
    "def get_pres_name(N):\n",
    "    return [\"George Washington\", \"John Adams\", \"Thomas Jefferson\", \"James Madison\", \"James Monroe\", \"John Quincy Adams\",\\\n",
    "           \"Andrew Jackson\", \"Martin van Buren\", \"William Harrison\", \"John Tyler\", \"James K. Polk\", \"Zachary Taylor\",\\\n",
    "           \"Millard Fillmore\", \"Franklin Pierce\", \"James Buchanan\", \"Abraham Lincoln\", \"Andrew Johnson\",\\\n",
    "           \"Ulysses S. Grant\", \"Rutherford B. Hayes\", \"James A. Garfield\", \"Chester A. Arthur\", \"Grover Cleveland\",\\\n",
    "           \"Benjamin Harrison\", \"William McKinley\", \"Theodore Roosevelt\", \"William Taft\", \"Woodrow Wilson\",\\\n",
    "           \"Warren G. Harding\", \"Calvin Coolidge\", \"Herbert Hoover\", \"Franklin D. Roosevelt\", \"Harry S. Truman\",\\\n",
    "           \"Dwight D. Eisenhower\", \"John F. Kennedy\", \"Lyndon B. Johnson\", \"Richard Nixon\", \"Gerald Ford\",\\\n",
    "           \"Jimmy Carter\", \"Ronald Reagan\", \"George H. W. Bush\", \"Bill Clinton\", \"George W. Bush\", \"Barack Obama\",\\\n",
    "           \"Donald Trump\"][N-1]\n",
    "\n",
    "def get_president(N):\n",
    "    N = pres_numbers_list()[N - 1]\n",
    "    millerpage = f\"https://millercenter.org/the-presidency/presidential-speeches?field_president_target_id[{N}]={N}\"\n",
    "    page = requests.get(millerpage)\n",
    "    soup = BeautifulSoup(page.content, 'html.parser')\n",
    "    #dummy = 'a href=\"/the-presidency/presidential-speeches'\n",
    "    speechlist = soup.find_all(href=re.compile('/the-presidency/presidential-speeches/'))\n",
    "    URLlist = [\"https://millercenter.org\" + x['href'] for x in speechlist]\n",
    "    #pprint.pprint(URLlist)\n",
    "    speeches = list()\n",
    "    n = -1\n",
    "    for URL in URLlist:\n",
    "        n = n + 1\n",
    "        page = requests.get(URL)\n",
    "        soup = BeautifulSoup(page.content, 'html.parser')\n",
    "        for e in soup.find_all('br'):\n",
    "            e.replace_with('\\n')\n",
    "        x = soup('h3', text=\"Transcript\")\n",
    "        listofps = x[0].parent.findChildren('p')\n",
    "        #print([type(p.contents[0]) for p in listofps])\n",
    "        #string = string.replace(u'\\xa0', u' ')\n",
    "        # print([p.contents[0].name for p in listofps])\n",
    "        textofspeech = \" \".join([\" \".join([c for c in p.contents if not c.name]) for p in listofps])\n",
    "        # Replace funny single quote #8217 with single quote #39\n",
    "        textofspeech = textofspeech.replace('\\’', \"'\")\n",
    "        textofspeech = textofspeech.replace(\"\\'\", \"'\")\n",
    "        speeches.append(textofspeech)\n",
    "    return speeches\n"
   ]
  },
  {
   "cell_type": "markdown",
   "metadata": {},
   "source": [
    "get_overrep_words takes a list of the text of each speech, and returns a list of \"overrepresented words\" the form:\n",
    "\n",
    "[(word1, weight1), (word2, weight2), ...]\n",
    "\n",
    "The \"weight\" for each word is calculated as follows.  The goal is to have a weight that reflects (1) the relative incidence of the word in the speech corpus compared with its usual incidence in the English language, (2) the overall incidence of the word in the speech corpus.  Thus, a word that is highly unusual (\"supercalifragilisticexpealidocious\") but only appears once in the speech corpus is not that interesting.  In contrast, a word that is very common, but appears only the usual amount in the corpus (\"the\") is also not interesting.  The weight for each words is computed as a product of these two factors.\n",
    "\n",
    "Getting into the details: To compute the weight, the incidence count of the word is first tallied in the combined speeches of a president.\n",
    "Using the wordfreq library, each word's frequency in English is obtained (actually the log of the frequency), so that it can be compared with the log of the frequency in the speeches.\n",
    "Using the statsmodels library, a least squares regression is used to find the linear relationship between these two logs.\n",
    "\n",
    "This linear relationship can then be used to compute the predicted English frequency for a word that has the given corpus frequency.  This predicted English frequency can be compared to the word's actual English frequency.  The difference between predicted and actual (using subtraction) is essentially a measure of how much more common the word is in the speech corpus compared to the English language.  A weight value of 1 would mean that the word is \"e\" times more common in the speech corpus as compared with English.\n",
    "\n",
    "Next, the number of words in each speech can range from 20,000 to 800,000, so the number of appearances is multiplied by (800,000 / length) to get the number that would appear in 800,000.  Then, the log is taken.  This number is multiplied by the weight to get the final weight value.  This takes into account that we care more about words that appear many times as opposed to only once."
   ]
  },
  {
   "cell_type": "code",
   "execution_count": 104,
   "metadata": {},
   "outputs": [],
   "source": [
    "def get_overrep_words(speeches):\n",
    "    speeches_combined = \" \".join(speeches)\n",
    "    print(\"Length of speeches:\", len(speeches_combined))\n",
    "    wordlist = wordfreq.tokenize(speeches_combined, 'en')\n",
    "    length = len(wordlist)\n",
    "    freqlist = [(x, wordlist.count(x)) for x in set(wordlist)]\n",
    "    freqlist.sort(key = lambda x: x[1])\n",
    "    freqmap = [(np.log(wordfreq.word_frequency(x[0], 'en')), np.log(x[1] / length)) for x in freqlist]\n",
    "    xy = list(zip(*freqmap))\n",
    "    #plt.figure()\n",
    "    #plt.plot(*xy, 'b.')\n",
    "    dfxy = pd.DataFrame(xy).T\n",
    "    dfxy.columns = ['logen', 'logcorpus']\n",
    "    dfxy = dfxy.replace([np.inf, -np.inf], np.nan).dropna()\n",
    "    #print(dfxy)\n",
    "    model = sm.OLS.from_formula('logen ~ logcorpus', dfxy) \n",
    "    regr = model.fit()\n",
    "    #regr.summary()\n",
    "\n",
    "    # Replace funny single quote #8217 with single quote #39\n",
    "    freqlist = [(x[0].replace('’', \"'\"), x[1]) for x in freqlist]\n",
    "    \n",
    "    weightlist = [(x[0], (regr.predict(pd.Series([np.log(x[1] / length)], name='logcorpus')).iloc[0] - \\\n",
    "            np.log(wordfreq.word_frequency(x[0], 'en'))) * np.log(x[1] * 800000 / length) \\\n",
    "            ) for x in freqlist if ((x[1] * 800000 / length > 1) and x[0] != 'applause' and x[0] != 'laughter')]\n",
    "    \n",
    "    weightlist.sort(key = lambda x: x[1])\n",
    "\n",
    "    return [x for x in weightlist if (x[1] > 1 and not np.isinf(x[1]))], freqlist"
   ]
  },
  {
   "cell_type": "code",
   "execution_count": 105,
   "metadata": {},
   "outputs": [],
   "source": [
    "def make_two_speech_lists(speeches):\n",
    "    lst1 = np.random.choice(speeches, size=int(len(speeches)/2), replace=False)\n",
    "    lst2 = [x for x in speeches if not (x in lst1)]\n",
    "    return (lst1, lst2)"
   ]
  },
  {
   "cell_type": "markdown",
   "metadata": {},
   "source": [
    "get_paired_words returns a list of the form:\n",
    "\n",
    "[(word1, sim1), (word2, sim2), ...]\n",
    "\n",
    "Where the similarity score (sim1) for word 1 is the minimum of the word's weight for president M and for president N.  Only words that appear in both president M and president N's speeches will get a score.\n",
    "\n",
    "get_similarity finds the total similarity score by adding them up.\n",
    "\n",
    "The result is a similarity score that compares the two presidents.  If the presidents share more words in common (and with higher weights), then their similarity score will tend to be higher."
   ]
  },
  {
   "cell_type": "code",
   "execution_count": 106,
   "metadata": {},
   "outputs": [],
   "source": [
    "def get_paired_words(overrep_words, M, N):\n",
    "    paired_words = list()\n",
    "    for x in overrep_words[M-1]:\n",
    "        for y in overrep_words[N-1]:\n",
    "            if x[0] == y[0]:\n",
    "                paired_words.append((x[0], min(x[1],y[1])))\n",
    "    return paired_words\n",
    "\n",
    "def get_similarity(overrep_words, M, N):\n",
    "    pw = get_paired_words(overrep_words, M, N)\n",
    "    total = sum(x[1] for x in pw)\n",
    "    return total"
   ]
  },
  {
   "cell_type": "markdown",
   "metadata": {},
   "source": [
    "This code block loops through a range of presidents, getting a list of overrepresented words (with their weights) and a list of frequencies for each."
   ]
  },
  {
   "cell_type": "code",
   "execution_count": 107,
   "metadata": {},
   "outputs": [
    {
     "name": "stdout",
     "output_type": "stream",
     "text": [
      "George Washington\n",
      "Length of speeches: 61416\n"
     ]
    },
    {
     "name": "stderr",
     "output_type": "stream",
     "text": [
      "/anaconda3/lib/python3.6/site-packages/ipykernel_launcher.py:8: RuntimeWarning: divide by zero encountered in log\n",
      "  \n",
      "/anaconda3/lib/python3.6/site-packages/ipykernel_launcher.py:23: RuntimeWarning: divide by zero encountered in log\n"
     ]
    },
    {
     "name": "stdout",
     "output_type": "stream",
     "text": [
      "Length of speeches: 67226\n",
      "John Adams\n",
      "Length of speeches: 31664\n",
      "Length of speeches: 57245\n",
      "Thomas Jefferson\n",
      "Length of speeches: 78050\n",
      "Length of speeches: 38567\n",
      "James Madison\n",
      "Length of speeches: 68456\n",
      "Length of speeches: 68367\n",
      "James Monroe\n",
      "Length of speeches: 168944\n",
      "Length of speeches: 128277\n",
      "John Quincy Adams\n",
      "Length of speeches: 144864\n",
      "Length of speeches: 77009\n",
      "Andrew Jackson\n",
      "Length of speeches: 362404\n",
      "Length of speeches: 145846\n",
      "Martin van Buren\n",
      "Length of speeches: 111183\n",
      "Length of speeches: 280015\n",
      "William Harrison\n",
      "Length of speeches: 0\n"
     ]
    },
    {
     "ename": "ValueError",
     "evalue": "Length mismatch: Expected axis has 0 elements, new values have 2 elements",
     "output_type": "error",
     "traceback": [
      "\u001b[0;31m---------------------------------------------------------------------------\u001b[0m",
      "\u001b[0;31mValueError\u001b[0m                                Traceback (most recent call last)",
      "\u001b[0;32m<ipython-input-107-d9c4a3300798>\u001b[0m in \u001b[0;36m<module>\u001b[0;34m()\u001b[0m\n\u001b[1;32m     13\u001b[0m     \u001b[0msp_train\u001b[0m\u001b[0;34m,\u001b[0m \u001b[0msp_test\u001b[0m \u001b[0;34m=\u001b[0m \u001b[0mmake_two_speech_lists\u001b[0m\u001b[0;34m(\u001b[0m\u001b[0mspeeches\u001b[0m\u001b[0;34m)\u001b[0m\u001b[0;34m\u001b[0m\u001b[0m\n\u001b[1;32m     14\u001b[0m     \u001b[0;32mif\u001b[0m \u001b[0mtrain_test\u001b[0m\u001b[0;34m:\u001b[0m\u001b[0;34m\u001b[0m\u001b[0m\n\u001b[0;32m---> 15\u001b[0;31m         \u001b[0mov\u001b[0m\u001b[0;34m,\u001b[0m \u001b[0mfr\u001b[0m \u001b[0;34m=\u001b[0m \u001b[0mget_overrep_words\u001b[0m\u001b[0;34m(\u001b[0m\u001b[0msp_train\u001b[0m\u001b[0;34m)\u001b[0m\u001b[0;34m\u001b[0m\u001b[0m\n\u001b[0m\u001b[1;32m     16\u001b[0m         \u001b[0mov_test\u001b[0m\u001b[0;34m,\u001b[0m \u001b[0mfr_test\u001b[0m \u001b[0;34m=\u001b[0m \u001b[0mget_overrep_words\u001b[0m\u001b[0;34m(\u001b[0m\u001b[0msp_test\u001b[0m\u001b[0;34m)\u001b[0m\u001b[0;34m\u001b[0m\u001b[0m\n\u001b[1;32m     17\u001b[0m         \u001b[0moverrep_words\u001b[0m\u001b[0;34m.\u001b[0m\u001b[0mappend\u001b[0m\u001b[0;34m(\u001b[0m\u001b[0mov\u001b[0m\u001b[0;34m)\u001b[0m\u001b[0;34m\u001b[0m\u001b[0m\n",
      "\u001b[0;32m<ipython-input-104-910b0068c489>\u001b[0m in \u001b[0;36mget_overrep_words\u001b[0;34m(speeches)\u001b[0m\n\u001b[1;32m     11\u001b[0m     \u001b[0;31m#plt.plot(*xy, 'b.')\u001b[0m\u001b[0;34m\u001b[0m\u001b[0;34m\u001b[0m\u001b[0m\n\u001b[1;32m     12\u001b[0m     \u001b[0mdfxy\u001b[0m \u001b[0;34m=\u001b[0m \u001b[0mpd\u001b[0m\u001b[0;34m.\u001b[0m\u001b[0mDataFrame\u001b[0m\u001b[0;34m(\u001b[0m\u001b[0mxy\u001b[0m\u001b[0;34m)\u001b[0m\u001b[0;34m.\u001b[0m\u001b[0mT\u001b[0m\u001b[0;34m\u001b[0m\u001b[0m\n\u001b[0;32m---> 13\u001b[0;31m     \u001b[0mdfxy\u001b[0m\u001b[0;34m.\u001b[0m\u001b[0mcolumns\u001b[0m \u001b[0;34m=\u001b[0m \u001b[0;34m[\u001b[0m\u001b[0;34m'logen'\u001b[0m\u001b[0;34m,\u001b[0m \u001b[0;34m'logcorpus'\u001b[0m\u001b[0;34m]\u001b[0m\u001b[0;34m\u001b[0m\u001b[0m\n\u001b[0m\u001b[1;32m     14\u001b[0m     \u001b[0mdfxy\u001b[0m \u001b[0;34m=\u001b[0m \u001b[0mdfxy\u001b[0m\u001b[0;34m.\u001b[0m\u001b[0mreplace\u001b[0m\u001b[0;34m(\u001b[0m\u001b[0;34m[\u001b[0m\u001b[0mnp\u001b[0m\u001b[0;34m.\u001b[0m\u001b[0minf\u001b[0m\u001b[0;34m,\u001b[0m \u001b[0;34m-\u001b[0m\u001b[0mnp\u001b[0m\u001b[0;34m.\u001b[0m\u001b[0minf\u001b[0m\u001b[0;34m]\u001b[0m\u001b[0;34m,\u001b[0m \u001b[0mnp\u001b[0m\u001b[0;34m.\u001b[0m\u001b[0mnan\u001b[0m\u001b[0;34m)\u001b[0m\u001b[0;34m.\u001b[0m\u001b[0mdropna\u001b[0m\u001b[0;34m(\u001b[0m\u001b[0;34m)\u001b[0m\u001b[0;34m\u001b[0m\u001b[0m\n\u001b[1;32m     15\u001b[0m     \u001b[0;31m#print(dfxy)\u001b[0m\u001b[0;34m\u001b[0m\u001b[0;34m\u001b[0m\u001b[0m\n",
      "\u001b[0;32m/anaconda3/lib/python3.6/site-packages/pandas/core/generic.py\u001b[0m in \u001b[0;36m__setattr__\u001b[0;34m(self, name, value)\u001b[0m\n\u001b[1;32m   3625\u001b[0m         \u001b[0;32mtry\u001b[0m\u001b[0;34m:\u001b[0m\u001b[0;34m\u001b[0m\u001b[0m\n\u001b[1;32m   3626\u001b[0m             \u001b[0mobject\u001b[0m\u001b[0;34m.\u001b[0m\u001b[0m__getattribute__\u001b[0m\u001b[0;34m(\u001b[0m\u001b[0mself\u001b[0m\u001b[0;34m,\u001b[0m \u001b[0mname\u001b[0m\u001b[0;34m)\u001b[0m\u001b[0;34m\u001b[0m\u001b[0m\n\u001b[0;32m-> 3627\u001b[0;31m             \u001b[0;32mreturn\u001b[0m \u001b[0mobject\u001b[0m\u001b[0;34m.\u001b[0m\u001b[0m__setattr__\u001b[0m\u001b[0;34m(\u001b[0m\u001b[0mself\u001b[0m\u001b[0;34m,\u001b[0m \u001b[0mname\u001b[0m\u001b[0;34m,\u001b[0m \u001b[0mvalue\u001b[0m\u001b[0;34m)\u001b[0m\u001b[0;34m\u001b[0m\u001b[0m\n\u001b[0m\u001b[1;32m   3628\u001b[0m         \u001b[0;32mexcept\u001b[0m \u001b[0mAttributeError\u001b[0m\u001b[0;34m:\u001b[0m\u001b[0;34m\u001b[0m\u001b[0m\n\u001b[1;32m   3629\u001b[0m             \u001b[0;32mpass\u001b[0m\u001b[0;34m\u001b[0m\u001b[0m\n",
      "\u001b[0;32mpandas/_libs/properties.pyx\u001b[0m in \u001b[0;36mpandas._libs.properties.AxisProperty.__set__\u001b[0;34m()\u001b[0m\n",
      "\u001b[0;32m/anaconda3/lib/python3.6/site-packages/pandas/core/generic.py\u001b[0m in \u001b[0;36m_set_axis\u001b[0;34m(self, axis, labels)\u001b[0m\n\u001b[1;32m    557\u001b[0m \u001b[0;34m\u001b[0m\u001b[0m\n\u001b[1;32m    558\u001b[0m     \u001b[0;32mdef\u001b[0m \u001b[0m_set_axis\u001b[0m\u001b[0;34m(\u001b[0m\u001b[0mself\u001b[0m\u001b[0;34m,\u001b[0m \u001b[0maxis\u001b[0m\u001b[0;34m,\u001b[0m \u001b[0mlabels\u001b[0m\u001b[0;34m)\u001b[0m\u001b[0;34m:\u001b[0m\u001b[0;34m\u001b[0m\u001b[0m\n\u001b[0;32m--> 559\u001b[0;31m         \u001b[0mself\u001b[0m\u001b[0;34m.\u001b[0m\u001b[0m_data\u001b[0m\u001b[0;34m.\u001b[0m\u001b[0mset_axis\u001b[0m\u001b[0;34m(\u001b[0m\u001b[0maxis\u001b[0m\u001b[0;34m,\u001b[0m \u001b[0mlabels\u001b[0m\u001b[0;34m)\u001b[0m\u001b[0;34m\u001b[0m\u001b[0m\n\u001b[0m\u001b[1;32m    560\u001b[0m         \u001b[0mself\u001b[0m\u001b[0;34m.\u001b[0m\u001b[0m_clear_item_cache\u001b[0m\u001b[0;34m(\u001b[0m\u001b[0;34m)\u001b[0m\u001b[0;34m\u001b[0m\u001b[0m\n\u001b[1;32m    561\u001b[0m \u001b[0;34m\u001b[0m\u001b[0m\n",
      "\u001b[0;32m/anaconda3/lib/python3.6/site-packages/pandas/core/internals.py\u001b[0m in \u001b[0;36mset_axis\u001b[0;34m(self, axis, new_labels)\u001b[0m\n\u001b[1;32m   3072\u001b[0m             raise ValueError('Length mismatch: Expected axis has %d elements, '\n\u001b[1;32m   3073\u001b[0m                              \u001b[0;34m'new values have %d elements'\u001b[0m \u001b[0;34m%\u001b[0m\u001b[0;34m\u001b[0m\u001b[0m\n\u001b[0;32m-> 3074\u001b[0;31m                              (old_len, new_len))\n\u001b[0m\u001b[1;32m   3075\u001b[0m \u001b[0;34m\u001b[0m\u001b[0m\n\u001b[1;32m   3076\u001b[0m         \u001b[0mself\u001b[0m\u001b[0;34m.\u001b[0m\u001b[0maxes\u001b[0m\u001b[0;34m[\u001b[0m\u001b[0maxis\u001b[0m\u001b[0;34m]\u001b[0m \u001b[0;34m=\u001b[0m \u001b[0mnew_labels\u001b[0m\u001b[0;34m\u001b[0m\u001b[0m\n",
      "\u001b[0;31mValueError\u001b[0m: Length mismatch: Expected axis has 0 elements, new values have 2 elements"
     ]
    }
   ],
   "source": [
    "overrep_words = list()\n",
    "overrep_words_test = list()\n",
    "\n",
    "NUMP = 44\n",
    "\n",
    "train_test = True\n",
    "\n",
    "random.seed(datetime.now())\n",
    "\n",
    "for N in range(45 - NUMP, 45):\n",
    "    print(get_pres_name(N))\n",
    "    speeches = get_president(N)\n",
    "    sp_train, sp_test = make_two_speech_lists(speeches)\n",
    "    if train_test:\n",
    "        if len(sp_train) =\n",
    "        or len(sp_test) == 0:\n",
    "            continue\n",
    "        ov, fr = get_overrep_words(sp_train)\n",
    "        ov_test, fr_test = get_overrep_words(sp_test)\n",
    "        overrep_words.append(ov)\n",
    "        overrep_words_test.append(ov_test)\n",
    "    else:\n",
    "        ov, fr = get_overrep_words(speeches)\n",
    "        overrep_words.append(ov)"
   ]
  },
  {
   "cell_type": "markdown",
   "metadata": {},
   "source": [
    "Create a similarity matrix such that X[i,j] is the similarity of presidents i and j.  Then, print the cluster labels and cluster centers.\n",
    "\n",
    "computer_cluster_overlap will compute the overlap between the training and testing data.  The overlap is defined as the ratio of the number of pairs of presidents that belong to the same cluster in _both_ the training and testing set to the number of pairs that belong to the same cluster in _either_ the training or testing sets.  Thus, the overlap is a measure the similarity between the clustering results of the training and testing set."
   ]
  },
  {
   "cell_type": "code",
   "execution_count": 100,
   "metadata": {},
   "outputs": [
    {
     "name": "stdout",
     "output_type": "stream",
     "text": [
      "Labels: [0 1 1 1 1 2 2 0 0 0]\n",
      "Labels test: [1 0 0 0 0 2 2 1 1 1]\n",
      "Num possible pairs:  13\n",
      "Num similar pairs:  13\n"
     ]
    }
   ],
   "source": [
    "import random\n",
    "from datetime import datetime\n",
    "\n",
    "def similarity_matrix(overrep_words):\n",
    "    X = np.zeros((NUMP, NUMP))\n",
    "    for i in range(0, NUMP):\n",
    "        for j in range(0, NUMP):\n",
    "            X[i,j] = get_similarity(overrep_words, i, j)\n",
    "    return X\n",
    "\n",
    "def compute_cluster_overlap(labels1, labels2):\n",
    "    if len(labels1) != len(labels2):\n",
    "        print(\"Error in compute_cluster_overlap: labels1, labels2 not same length.\")\n",
    "        return\n",
    "    length = len(labels1)\n",
    "    num_similar_pairs = 0\n",
    "    num_possible_pairs = 0\n",
    "    for i in range(0, length):\n",
    "        for j in range(0, i):\n",
    "            if labels1[i] == labels1[j] or labels2[i] == labels2[j]:\n",
    "                num_possible_pairs += 1\n",
    "                if labels1[i] == labels1[j] and labels2[i] == labels2[j]:\n",
    "                    num_similar_pairs += 1\n",
    "    print(\"Num possible pairs: \", num_possible_pairs)\n",
    "    print(\"Num similar pairs: \", num_similar_pairs)\n",
    "    return num_possible_pairs, num_similar_pairs\n",
    "    \n",
    "n_clusters = 3\n",
    "\n",
    "X = similarity_matrix(overrep_words)\n",
    "#clustering = AgglomerativeClustering(n_clusters=n_clusters, affinity=\"precomputed\", linkage=\"average\").fit(X)\n",
    "clustering = SpectralClustering(n_clusters=n_clusters, affinity=\"precomputed\", n_neighbors=10, assign_labels=\"discretize\").fit(X)\n",
    "print(\"Labels:\", clustering.labels_)\n",
    "#print(\"Centers:\", clustering.cluster_centers_)\n",
    "\n",
    "if train_test:\n",
    "    X_test = similarity_matrix(overrep_words_test)\n",
    "    #clustering_test = AgglomerativeClustering(n_clusters=n_clusters, affinity=\"precomputed\", linkage=\"average\").fit(X_test)    \n",
    "    clustering_test = SpectralClustering(n_clusters=n_clusters, affinity=\"precomputed\", n_neighbors=10, assign_labels=\"discretize\").fit(X_test)\n",
    "    print(\"Labels test:\", clustering_test.labels_)\n",
    "    compute_cluster_overlap(clustering.labels_, clustering_test.labels_)"
   ]
  },
  {
   "cell_type": "code",
   "execution_count": 32,
   "metadata": {},
   "outputs": [],
   "source": []
  },
  {
   "cell_type": "markdown",
   "metadata": {},
   "source": [
    "These functions make use of only the training set data (or all of the data, if you have set train_test = False).\n",
    "\n",
    "get_inlist will make a list of the numbers of the president that belong to the ith cluster in the training set.\n",
    "\n",
    "get_characteristic_words accepts as an argument a list of president numbers.  Thus, a list [0, 2, 3] will combine the 0th, 2nd, and 3rd presidents into a group, which is then compared with all presidents not in the list.  You can use get_inlist to generate this list from a cluster number, or you can pick a single president with a single element list like [2].\n",
    "\n",
    "The function finds the median weight in the \"inlist\" and the median weight in the \"outlist,\" subtracting the two to find the score for each word.  In the resulting list, a positive score indicates that a word has a high weight in the inlist, while a negative score indicates that it has a high weight in the outlist.  If there are an odd number of presidents in the list, the median takes the lower of the two middle numbers.\n",
    "\n",
    "Thus, to find the most characteristic words in the inlist, scroll to the end of the output and look at the words with the highest score"
   ]
  },
  {
   "cell_type": "code",
   "execution_count": 101,
   "metadata": {},
   "outputs": [
    {
     "name": "stdout",
     "output_type": "stream",
     "text": [
      "[('bipartisan', -11.634066409620011), ('medicare', -11.567459694705024), ('bless', -8.533587594924672), ('freer', -8.030081786210456), ('economy', -7.869385895822875), ('jobs', -7.807063419086357), (\"we've\", -7.3245747466847195), ('convene', -7.2733231055051135), ('deficit', -6.594823209622031), ('dignity', -6.539450837517278), (\"we're\", -6.414024849121512), ('congressman', -6.271800032130434), ('democracy', -5.959272270606104), ('country', -5.738815260582417), ('resolve', -5.630854103739396), ('missiles', -5.145754356205807), ('protect', -5.095404364269139), ('tens', -4.858284700129758), ('conflicts', -4.590576930392068), ('dangers', -4.535475983043126), ('rebuild', -4.455888244556646), ('troops', -4.426684290333311), ('taxpayer', -4.39149121957549), ('values', -4.051265039064157), ('families', -4.030465712561186), ('cuts', -4.0249496986302855), ('tonight', -3.8961454445727286), ('grandchildren', -3.8527375777148207), ('challenges', -3.837652862059308), ('safer', -3.7999511219439883), ('struggling', -3.680215873447491), ('freedom', -3.657088658540405), ('generations', -3.637969986141144), ('turmoil', -3.4803617020380986), ('restore', -3.462274434424971), ('democratic', -3.4429690479590014), ('america', -3.3656985118940685), ('opportunity', -3.357189410084981), ('succeed', -3.2781416523112186), ('deficits', -3.2706803541954974), ('hemisphere', -3.2368634482686054), ('chamber', -3.140281071744353), ('accelerate', -3.1109217203295616), ('solve', -3.022890348422812), ('ahead', -2.994736710295664), ('optimism', -2.9904243817873044), ('poorest', -2.911381655303849), ('speaker', -2.813185715127866), ('poverty', -2.793094632053608), ('prosperous', -2.763312433841634), ('accountable', -2.7125338127113823), ('famine', -2.6863251210032613), ('partisan', -2.6458749356224867), ('eliminate', -2.6244705827481627), ('leadership', -2.6131434720718305), ('fought', -2.514493072305046), ('citizen', -2.5108116796052853), ('capitol', -2.4660244678768457), ('agreements', -2.419000539561537), ('troop', -2.34602005862485), ('secure', -2.3249626137833816), ('achieve', -2.3076919490193815), ('futures', -2.3075655233683587), ('crisis', -2.306862747323222), ('dependence', -2.274776959170406), ('hatred', -2.255347955423807), ('shores', -2.2530545505184074), ('recognizing', -2.2530545505184074), ('overseas', -2.2393557838604257), ('commitments', -2.187176662166778), ('vicious', -2.1724786835519723), ('lives', -2.107316638213103), ('grants', -2.0847440122959267), ('tragedy', -2.0481842291102756), ('cooperate', -2.013925421928194), ('eliminating', -2.0012768753863295), ('civilians', -1.9985696801037012), ('together', -1.9863530798493925), ('taxpayers', -1.9086559010122497), (\"we'll\", -1.8898740178913138), ('neighbors', -1.8630598278786745), ('secretary', -1.857038263863146), ('reform', -1.840154120979912), ('recognize', -1.8111568631739896), ('convictions', -1.7730230629769568), ('founders', -1.7730230629769568), ('terror', -1.7584711973850127), ('exports', -1.727848096119216), ('divisions', -1.7240135431484382), ('today', -1.721585380771044), ('elected', -1.7159220257563255), ('budgets', -1.7081343285508275), ('armed', -1.6612547123568893), ('congress', -1.6234520112675153), ('communities', -1.5754414506167116), ('dramatically', -1.5728631082524156), ('strengthened', -1.5650222219419694), ('doubled', -1.5514071563150746), ('opportunities', -1.5396195691149854), ('neighborhoods', -1.4958840904672273), ('rooted', -1.4958840904672273), ('republicans', -1.4689944698240722), ('wages', -1.4434362124699727), ('reforms', -1.442258708626817), ('commitment', -1.4242412569824587), ('expanding', -1.3599989942505637), ('millions', -1.3352779538411665), ('deeds', -1.2845239811558882), ('every', -1.2818630872760088), ('racial', -1.2747991332481088), ('must', -1.2488182588428833), ('blessings', -1.2405119824332325), ('taxes', -1.2382489419516247), ('washington', -1.235803844824084), ('threaten', -1.1596537808739913), ('countries', -1.1531343213681353), ('barriers', -1.1469125827164774), ('threat', -1.1024370369910992), ('reduces', -1.0657893014997597), ('defend', -1.0565138888964627), ('minority', -1.0311530987700688), ('serve', -1.0120097166179003), ('decisive', -1.003623287156833), ('gains', -1.003502437369925), ('we', -0.8047947049870174), ('rebuilding', -0.7624280323244248), ('fellow', -0.6262643834174804), ('tax', -0.37656455408994516), ('weapons', -0.3566212441017489), ('budget', -0.33837222763736685), ('enduring', -0.31490178012529624), ('americans', -0.30837461836755153), ('promise', -0.3030680132236614), ('nation', -0.2971561263662075), ('protects', -0.06852182836860932), ('farm', 0), ('paris', 0), ('forward', 0), ('threshold', 0), ('addressing', 0), ('preservation', 0), ('savage', 0), ('lifting', 0), ('magnitude', 0), ('associates', 0), ('outcome', 0), ('enterprise', 0), ('subjects', 0), ('attitude', 0), ('office', 0), ('reach', 0), ('confirmation', 0), ('tremendous', 0), ('importantly', 0), ('clearing', 0), ('innocent', 0), ('lessons', 0), ('turned', 0), ('assistant', 0), ('investing', 0), ('valued', 0), ('foul', 0), ('interference', 0), ('satisfy', 0), ('cardinal', 0), ('welcomed', 0), ('targets', 0), ('hopes', 0), ('action', 0), ('charged', 0), ('purposes', 0), ('ships', 0), ('choice', 0), ('complete', 0), ('investigating', 0), ('punished', 0), ('suggested', 0), ('henry', 0), ('reveal', 0), ('imagined', 0), ('shadows', 0), ('defining', 0), ('banner', 0), ('recognized', 0), ('that', 0), (\"god's\", 0), ('gathered', 0), ('conversation', 0), ('profitable', 0), ('praised', 0), ('enthusiasm', 0), ('mistaken', 0), ('conscience', 0), ('disagree', 0), ('refused', 0), ('respond', 0), ('million', 0), ('difficult', 0), ('issue', 0), ('instructions', 0), ('lifetime', 0), ('privately', 0), ('organize', 0), ('political', 0), ('courts', 0), ('undertaken', 0), ('delicate', 0), ('maintains', 0), ('subjected', 0), ('artillery', 0), ('obtaining', 0), ('readily', 0), ('precious', 0), ('resort', 0), ('task', 0), ('turning', 0), ('meet', 0), ('debates', 0), ('assembled', 0), ('verify', 0), ('thorough', 0), ('allegations', 0), ('improving', 0), ('possible', 0), ('acts', 0), ('rumors', 0), ('refuses', 0), ('dreaming', 0), ('emerge', 0), ('contrary', 0), ('thereafter', 0), ('launching', 0), ('theirs', 0), ('mainland', 0), ('withdrawn', 0), ('agencies', 0), ('statement', 0), ('goals', 0), ('jefferson', 0), ('expose', 0), ('sixty', 0), ('accounted', 0), ('refusal', 0), ('these', 0), ('supreme', 0), (\"year's\", 0), ('affair', 0), ('approaches', 0), ('ave', 0), ('expects', 0), ('performs', 0), ('vague', 0), ('targeting', 0), ('rising', 0), ('criminal', 0), ('truly', 0), ('met', 0), ('records', 0), ('years', 0), ('disclosure', 0), ('perspectives', 0), ('coordination', 0), ('violated', 0), ('remaining', 0), ('decision', 0), ('inherent', 0), ('interfere', 0), ('posed', 0), ('drafted', 0), ('inevitably', 0), ('immunity', 0), ('porter', 0), ('acted', 0), ('responded', 0), ('cities', 0), ('occurred', 0), ('belief', 0), ('proved', 0), ('lasts', 0), ('builds', 0), ('buys', 0), ('require', 0), ('needed', 0), ('break', 0), ('john', 0), ('sole', 0), ('enable', 0), ('protecting', 0), ('proceed', 0), ('returned', 0), ('obstacles', 0), ('heroin', 0), ('explored', 0), ('richardson', 0), ('lightly', 0), ('hurts', 0), ('publicly', 0), ('legitimate', 0), ('accounting', 0), ('speaking', 0), ('endangered', 0), ('exploit', 0), ('daylight', 0), ('cleaner', 0), ('downs', 0), ('represent', 0), ('ending', 0), ('increasingly', 0), ('weeks', 0), ('question', 0), ('distinguished', 0), ('attempting', 0), ('materials', 0), ('powers', 0), ('persuade', 0), ('sworn', 0), ('landmark', 0), ('subsidies', 0), ('neighboring', 0), ('knowledge', 0), ('continued', 0), ('worthy', 0), ('confidential', 0), ('interpret', 0), ('demonstrates', 0), ('sensitive', 0), ('selecting', 0), ('relied', 0), ('reviewing', 0), ('remedy', 0), ('assassination', 0), ('parties', 0), ('grand', 0), ('strikes', 0), ('excess', 0), ('controversy', 0), ('ordered', 0), ('issued', 0), ('concludes', 0), ('innocence', 0), ('investigate', 0), ('representatives', 0), ('reasonable', 0), ('evidence', 0), ('neither', 0), ('announcing', 0), ('prejudice', 0), ('simpler', 0), ('lengthy', 0), ('forth', 0), ('achievement', 0), ('march', 0), ('opponents', 0), ('issues', 0), ('guilty', 0), ('perspective', 0), ('delivered', 0), ('gossip', 0), ('chooses', 0), ('agreed', 0), ('justice', 0), ('concluded', 0), ('indirectly', 0), ('accusations', 0), ('spiral', 0), ('prompt', 0), ('vain', 0), ('believed', 0), ('five', 0), ('purpose', 0), ('headquarters', 0), ('relying', 0), ('riots', 0), ('guarantees', 0), ('communists', 0), ('resign', 0), ('resolutions', 0), ('utter', 0), ('expenditures', 0), ('splendid', 0), ('adviser', 0), ('leverage', 0), ('longest', 0), ('devastating', 0), ('weighing', 0), ('bargaining', 0), ('pact', 0), ('traced', 0), ('merely', 0), ('knew', 0), ('determine', 0), ('requires', 0), ('doom', 0), ('presently', 0), ('resumed', 0), ('behalf', 0), ('injustice', 0), ('slightest', 0), ('warsaw', 0), ('inquiries', 0), ('factions', 0), ('suffered', 0), ('mr', 0), ('south', 0), ('sentences', 0), ('tomorrow', 0), ('patriotic', 0), ('voluntarily', 0), ('fair', 0), ('transportation', 0), ('distinction', 0), ('headlines', 0), ('exploited', 0), ('extent', 0), ('discussed', 0), ('depressed', 0), ('dreamed', 0), ('retaining', 0), ('proportions', 0), ('exercised', 0), ('intentionally', 0), ('answered', 0), ('shouted', 0), ('accomplishments', 0), ('notified', 0), ('contempt', 0), ('guiding', 0), ('decreasing', 0), ('contributes', 0), ('compelled', 0), ('participating', 0), ('trusted', 0), ('token', 0), ('honorable', 0), ('addresses', 0), ('obligation', 0), ('enemy', 0), ('overthrow', 0), ('those', 0), ('seized', 0), ('commented', 0), ('tho', 0), ('destroy', 0), ('nailed', 0), ('disagreement', 0), ('let', 0), ('ought', 0), ('fully', 0), ('entirety', 0), ('furnished', 0), ('uncovered', 0), ('testified', 0), ('repeated', 0), ('persons', 0), ('advances', 0), ('intensive', 0), ('indicating', 0), ('addiction', 0), ('challenged', 0), ('sacrificed', 0), ('illnesses', 0), ('readiness', 0), ('north', 0), ('impressions', 0), ('meanings', 0), ('morally', 0), ('tar', 0), ('whichever', 0), ('remotely', 0), ('goal', 0), ('asserted', 0), ('disregard', 0), ('leaks', 0), ('condemned', 0), ('unlawful', 0), ('durable', 0), ('isolation', 0), ('alternatives', 0), ('priorities', 0), ('questioned', 0), ('inquiry', 0), ('pronounce', 0), ('spur', 0), ('midway', 0), ('generosity', 0), ('tying', 0), ('settlement', 0), ('urged', 0), ('insist', 0), ('pursue', 0), ('accusation', 0), ('improper', 0), ('assaulted', 0), ('offensive', 0), ('thoroughly', 0), ('fashionable', 0), ('authenticity', 0), ('threatened', 0), ('ripe', 0), ('tolerated', 0), ('urgency', 0), ('prick', 0), ('offered', 0), ('meeting', 0), ('involved', 0), ('legislative', 0), ('ambiguous', 0), ('vastly', 0), ('summed', 0), ('entrusted', 0), ('termed', 0), ('cynical', 0), ('needless', 0), ('witness', 0), ('drastically', 0), ('catastrophic', 0), ('recall', 0), ('humiliation', 0), ('suppressed', 0), ('frankly', 0), ('appropriate', 0), ('contradictory', 0), ('omitted', 0), ('revelations', 0), ('fronts', 0), ('portray', 0), ('relate', 0), ('announce', 0), ('relevant', 0), ('insult', 0), ('incidentally', 0), ('discover', 0), ('priority', 0), ('fiber', 0), ('resisting', 0), ('arrogance', 0), ('suspicions', 0), ('blurred', 0), ('conduct', 0), ('concerned', 0), ('urgently', 0), ('safeguard', 0), ('disadvantaged', 0), ('purge', 0), ('prosecute', 0), ('heightened', 0), ('swearing', 0), ('pursuing', 0), ('oppose', 0), ('affect', 0), ('absorbed', 0), ('unnamed', 0), ('disagreed', 0), ('evening', 0), ('casualties', 0), ('campaign', 0), ('implicit', 0), ('repetition', 0), ('assaults', 0), ('contagious', 0), ('mitchell', 0), ('patiently', 0), ('televised', 0), ('usher', 0), ('throughout', 0), ('supplies', 0), ('settle', 0), ('erect', 0), ('mistakenly', 0), ('regardless', 0), ('confronted', 0), ('93rd', 0), ('mailing', 0), ('discussions', 0), ('inadvertently', 0), ('sparked', 0), ('conducts', 0), ('colleagues', 0), ('surrender', 0), ('greenwich', 0), ('jeopardy', 0), ('contradictions', 0), ('wrongly', 0), ('brutally', 0), ('perennial', 0), ('sensational', 0), ('conquest', 0), ('strongest', 0), ('matters', 0), ('afford', 0), ('sacrificing', 0), ('manpower', 0), ('withdrawing', 0), ('disagreements', 0), ('insisted', 0), ('besieged', 0), ('safeguards', 0), ('administering', 0), ('recordings', 0), ('measures', 0), ('embarrass', 0), ('authorize', 0), ('allegation', 0), ('invasion', 0), ('stride', 0), ('monstrous', 0), ('necessary', 0), ('objectively', 0), ('enactment', 0), ('obsession', 0), ('enacted', 0), ('conclusive', 0), ('clerks', 0), ('ridicule', 0), ('distinctions', 0), ('unresolved', 0), ('massive', 0), ('annals', 0), ('vigilant', 0), ('entrances', 0), ('supervisory', 0), ('hostile', 0), ('conducting', 0), ('mined', 0), ('folders', 0), ('journalistic', 0), ('demands', 0), ('arson', 0), ('prelude', 0), ('laos', 0), ('undertaking', 0), ('boil', 0), ('assured', 0), ('commentaries', 0), ('persuasive', 0), ('compromising', 0), ('harassing', 0), ('sacrifices', 0), ('counsel', 0), ('burglary', 0), ('zeal', 0), ('directed', 0), ('sweeping', 0), ('precedent', 0), ('confer', 0), ('strengthens', 0), ('vigil', 0), ('speculation', 0), ('brutal', 0), ('ramifications', 0), ('confidently', 0), ('wrongdoing', 0), ('pacing', 0), ('dignified', 0), ('fbi', 0), ('clair', 0), ('ultimatum', 0), ('witnesses', 0), ('invasions', 0), ('understatement', 0), ('jeb', 0), ('gloom', 0), ('selfless', 0), ('impeccable', 0), ('rightly', 0), ('administration', 0), ('ingenuity', 0), ('heals', 0), ('responsibilities', 0), ('responsive', 0), ('taping', 0), ('cripple', 0), ('scourge', 0), ('contended', 0), ('richly', 0), ('conceivable', 0), ('lyndon', 0), ('decisively', 0), ('determinations', 0), ('bled', 0), ('rumor', 0), ('prophets', 0), ('probing', 0), ('bravely', 0), ('conflicting', 0), ('shall', 0), ('maintained', 0), ('authorized', 0), ('morality', 0), ('resumption', 0), ('wildest', 0), ('adhered', 0), ('standpoint', 0), ('charges', 0), ('welfare', 0), ('oath', 0), ('completeness', 0), ('discredited', 0), ('repel', 0), ('assistants', 0), ('truthfully', 0), ('foresight', 0), ('contradicted', 0), ('unattended', 0), ('negotiator', 0), ('warring', 0), ('tragically', 0), ('idealism', 0), ('solidly', 0), ('committee', 0), ('subordinates', 0), ('surpassing', 0), ('treachery', 0), ('perjury', 0), ('outlaws', 0), ('essential', 0), ('endured', 0), ('complying', 0), ('discord', 0), ('congressmen', 0), ('regard', 0), ('judgments', 0), ('threatening', 0), ('conclude', 0), ('peacefully', 0), ('coerced', 0), ('reluctant', 0), ('involvement', 0), ('constitutional', 0), ('credence', 0), ('jury', 0), ('worsen', 0), ('shelled', 0), ('bluntly', 0), ('weakens', 0), ('insisting', 0), ('reciprocity', 0), ('deplorable', 0), ('interrupts', 0), ('investigation', 0), ('civilized', 0), ('zealous', 0), ('verbatim', 0), ('internationally', 0), ('urge', 0), ('obstructing', 0), ('bravest', 0), ('snooping', 0), ('overture', 0), ('bleeds', 0), ('tangle', 0), ('portions', 0), ('breakthrough', 0), ('juncture', 0), ('devoting', 0), ('extremes', 0), ('tape', 0), ('testimony', 0), ('uncovering', 0), ('limitation', 0), ('betrayed', 0), ('ports', 0), ('inhibiting', 0), ('ordeal', 0), (\"dean's\", 0), ('campuses', 0), ('abandons', 0), ('battleground', 0), ('telephoned', 0), ('bombings', 0), ('wrenching', 0), ('insistence', 0), ('blot', 0), ('solidify', 0), ('localities', 0), ('innuendo', 0), ('strictest', 0), (\"vietnam's\", 0), ('fullest', 0), ('privacy', 0), ('indicted', 0), ('outrage', 0), ('bureaucrat', 0), (\"fbi's\", 0), ('investigations', 0), ('instructed', 0), ('wanton', 0), ('implicate', 0), ('indictments', 0), ('revitalize', 0), ('subvert', 0), ('probed', 0), ('freshmen', 0), ('imposition', 0), ('principle', 0), ('improperly', 0), ('insure', 0), ('misinterpretation', 0), ('partisanship', 0), ('fragmentary', 0), ('negotiation', 0), (\"american's\", 0), ('hearings', 0), ('disengagement', 0), ('nonpartisan', 0), ('overreact', 0), ('spiraling', 0), ('prisoners', 0), ('defendants', 0), ('replaying', 0), ('restraints', 0), ('reelection', 0), ('justifies', 0), ('mired', 0), ('personally', 0), ('lasting', 0), ('attorney', 0), ('escalate', 0), ('confound', 0), ('southeast', 0), ('reaffirming', 0), ('insolence', 0), ('ambiguities', 0), ('cease', 0), ('grist', 0), ('ushers', 0), ('relevancy', 0), ('surmise', 0), ('implicating', 0), ('corrupts', 0), ('cooperates', 0), ('communist', 0), ('consecrate', 0), ('brezhnev', 0), ('blemishes', 0), ('mideast', 0), ('impairs', 0), ('deplore', 0), ('bugging', 0), ('scrupulously', 0), ('thoroughness', 0), ('dirtier', 0), ('offensives', 0), ('rebut', 0), ('begets', 0), ('purer', 0), ('gravely', 0), ('uninhibited', 0), ('equitably', 0), ('newscasts', 0), ('supervised', 0), ('bombastic', 0), ('caseload', 0), ('pricked', 0), ('incriminate', 0), ('seeped', 0), ('flexibly', 0), ('magruder', 0), ('indictable', 0), ('hutchinson', 0), ('hearsay', 0), ('blackmail', 0), ('prospering', 0), ('reactionaries', 0), ('interdict', 0), ('jailing', 0), ('sapped', 0), ('testify', 0), ('clearest', 0), ('insinuation', 0), ('encroached', 0), ('wiretaps', 0), ('impeachment', 0), (\"committee's\", 0), ('insinuations', 0), ('intransigent', 0), ('interrogatories', 0), ('duc', 0), ('waived', 0), ('steadfastness', 0), ('facts', 0), ('prosecutor', 0), ('redeems', 0), ('paternalism', 0), ('confusions', 0), ('burnings', 0), ('flatly', 0), ('aides', 0), ('vilification', 0), ('concurrence', 0), ('judiciary', 0), ('subpoena', 0), ('dean', 0), ('belligerence', 0), ('hecklers', 0), ('perjured', 0), ('pulpits', 0), ('abundantly', 0), ('jeopardized', 0), ('rehashing', 0), ('initialed', 0), ('confidentiality', 0), ('overzealous', 0), ('inescapably', 0), ('dopes', 0), (\"hunt's\", 0), ('subpoenaed', 0), ('corrodes', 0), ('overriding', 0), ('hanoi', 0), ('conversations', 0), (\"pow's\", 0), (\"hanoi's\", 0), ('intransigence', 0), ('abuses', 0), ('unmerciful', 0), ('kissinger', 0), ('vietnamese', 0), ('regimentation', 0), ('arrogantly', 0), ('spendable', 0), ('tapes', 0), ('criers', 0), ('impermissibly', 0), ('aboveboard', 0), ('liddy', 0), ('suborned', 0), ('clemency', 0), ('deescalation', 0), ('demeans', 0), ('indochina', 0), ('petersen', 0), ('rodino', 0), ('thieu', 0), ('transcripts', 0), ('haldeman', 0), ('kleindienst', 0), ('ehrlichman', 0), ('coverup', 0), ('watergate', 0), ('stand', 0), ('equity', 0), ('chosen', 0), ('wonderful', 0), ('determined', 0), ('tactical', 0), ('inability', 0), ('ashes', 0), ('accord', 0), ('donor', 0), ('shifting', 0), ('greater', 0), ('arrangements', 0), ('explore', 0), ('arena', 0), ('vulnerable', 0), ('capital', 0), ('smiles', 0), ('underway', 0), ('sums', 0), ('purse', 0), ('proving', 0), ('stir', 0), ('additional', 0), ('plants', 0), ('solution', 0), ('insurance', 0), ('atlantic', 0), ('singapore', 0), ('spare', 0), ('lineup', 0), ('advancing', 0), ('historians', 0), ('marble', 0), ('plains', 0), ('coupled', 0), ('era', 0), ('joint', 0), ('meetings', 0), ('solutions', 0), ('preferences', 0), ('professors', 0), ('emphasized', 0), ('nationwide', 0), ('superb', 0), ('critical', 0), ('mercy', 0), ('volunteer', 0), ('misery', 0), ('unstable', 0), ('marines', 0), ('carved', 0), ('automobile', 0), ('suppliers', 0), ('therefore', 0), ('situation', 0), ('collaboration', 0), ('requested', 0), ('renewable', 0), ('discretion', 0), ('subscribe', 0), ('dancers', 0), ('demonstrations', 0), ('insufficient', 0), ('departed', 0), ('commodities', 0), ('beings', 0), ('jurisdiction', 0), ('litigation', 0), ('lending', 0), ('reinforced', 0), ('plea', 0), ('lively', 0), ('proceeding', 0), ('january', 0), ('broad', 0), ('stem', 0), ('industries', 0), ('risks', 0), ('credit', 0), ('pioneer', 0), ('reversed', 0), ('destructive', 0), ('abundance', 0), ('committing', 0), ('arising', 0), ('imprisoned', 0), ('showcase', 0), ('relationship', 0), ('share', 0), ('cultures', 0), ('unnecessary', 0), ('platform', 0), ('suffering', 0), ('unfortunately', 0), ('declining', 0), ('stretched', 0), ('choices', 0), ('responsible', 0), ('coordinator', 0), ('allocation', 0), ('margins', 0), ('tolerate', 0), ('refined', 0), ('monetary', 0), ('refugees', 0), ('growth', 0), ('bill', 0), ('guests', 0), ('raising', 0), ('monitor', 0), ('fee', 0), ('food', 0), ('accidental', 0), ('competitor', 0), ('nationally', 0), ('darker', 0), ('reflected', 0), ('kansas', 0), (\"country's\", 0), ('duty', 0), ('convey', 0), ('favorable', 0), ('exclusion', 0), ('enthusiastic', 0), ('endorsed', 0), ('modify', 0), ('satisfactory', 0), ('incumbent', 0), ('distant', 0), ('listened', 0), ('emerged', 0), ('advised', 0), ('supply', 0), ('bomber', 0), ('hesitate', 0), ('evaluated', 0), ('privileged', 0), ('proposed', 0), ('stood', 0), ('dollar', 0), ('august', 0), ('thereby', 0), ('reaches', 0), ('solely', 0), ('conclusions', 0), ('bikes', 0), ('weighed', 0), ('shrine', 0), ('procedures', 0), ('summit', 0), ('engaged', 0), ('partners', 0), ('jointly', 0), ('forums', 0), ('complement', 0), ('credible', 0), ('persuaded', 0), ('bilateral', 0), ('floods', 0), ('manila', 0), ('restrict', 0), ('submarine', 0), ('issuing', 0), ('rim', 0), ('foremost', 0), ('collectively', 0), ('balanced', 0), ('accordingly', 0), ('wells', 0), ('sudden', 0), ('sought', 0), ('visited', 0), ('minimize', 0), ('recovering', 0), ('ideological', 0), ('outright', 0), ('accelerated', 0), ('servants', 0), ('ceiling', 0), ('chaos', 0), ('capacity', 0), ('concern', 0), ('emergency', 0), ('needs', 0), ('advance', 0), ('savings', 0), ('deprived', 0), ('eventual', 0), ('abundant', 0), ('realistic', 0), ('franklin', 0), ('qualify', 0), ('justify', 0), ('reviewed', 0), ('record', 0), ('practices', 0), ('agency', 0), ('price', 0), ('hearted', 0), ('shattered', 0), ('summoned', 0), ('violate', 0), ('intends', 0), ('debate', 0), ('europe', 0), ('requesting', 0), ('relieve', 0), ('healthier', 0), ('fuels', 0), ('warmer', 0), ('equals', 0), ('batting', 0), ('almighty', 0), ('glue', 0), ('legitimacy', 0), ('preach', 0), ('regain', 0), ('unfair', 0), ('am', 0), ('tore', 0), ('relaxation', 0), ('creed', 0), ('temptation', 0), ('rigid', 0), ('coordinated', 0), ('hopeless', 0), ('deed', 0), ('surge', 0), ('nor', 0), ('join', 0), ('barrel', 0), ('treasure', 0), ('deny', 0), ('warmth', 0), ('upward', 0), ('exceeding', 0), ('costing', 0), ('schedules', 0), ('lifelong', 0), ('trade', 0), ('broader', 0), ('modest', 0), ('importance', 0), ('illegally', 0), ('husbands', 0), ('perceptions', 0), ('undergoing', 0), ('ping', 0), ('dwight', 0), ('basic', 0), ('permanent', 0), ('improvement', 0), ('benefited', 0), ('atom', 0), ('ecuador', 0), ('paramount', 0), ('brooke', 0), ('catalyst', 0), ('spite', 0), ('majority', 0), ('emperor', 0), ('profits', 0), ('submit', 0), ('aided', 0), ('shelves', 0), ('belts', 0), ('favored', 0), ('aspirations', 0), ('negatively', 0), ('interim', 0), ('passage', 0), ('faults', 0), ('trusting', 0), ('webster', 0), ('freedoms', 0), ('unwilling', 0), ('confirming', 0), ('politically', 0), ('alike', 0), ('advocated', 0), ('demonstrated', 0), ('fuel', 0), ('exhausted', 0), ('prospect', 0), ('recovery', 0), ('disgrace', 0), ('pillar', 0), ('shrink', 0), ('conform', 0), ('brighter', 0), ('alliance', 0), ('farmers', 0), ('production', 0), ('democrats', 0), ('solid', 0), ('inflicted', 0), ('differing', 0), ('realism', 0), ('bounty', 0), ('honeymoon', 0), ('suggestions', 0), ('reliable', 0), ('provision', 0), ('harley', 0), ('unpopular', 0), ('secrecy', 0), ('whipped', 0), ('extending', 0), ('meantime', 0), ('assess', 0), ('carefully', 0), ('remarkable', 0), ('speeding', 0), ('attendant', 0), ('flank', 0), ('obligations', 0), ('economies', 0), ('alaska', 0), ('administered', 0), ('proliferation', 0), ('instincts', 0), ('resisted', 0), ('hereby', 0), ('blockade', 0), ('balances', 0), ('latin', 0), ('fiscal', 0), ('concentrated', 0), ('momentum', 0), ('unrest', 0), ('legislators', 0), ('regimes', 0), ('ample', 0), ('conditioned', 0), ('enlisted', 0), ('systematically', 0), ('tempting', 0), ('earnest', 0), ('controls', 0), ('increasing', 0), ('chaired', 0), ('congratulate', 0), ('skeptical', 0), ('guarded', 0), ('considerations', 0), ('nomination', 0), ('successor', 0), ('significance', 0), ('actively', 0), ('lincoln', 0), ('tougher', 0), ('gestures', 0), ('prosecuted', 0), ('winters', 0), ('veto', 0), ('vast', 0), ('sources', 0), ('refresh', 0), ('crunch', 0), ('sylvia', 0), ('humane', 0), ('maximum', 0), ('korea', 0), ('penetrate', 0), ('wisely', 0), ('disappearing', 0), (\"tomorrow's\", 0), ('tapped', 0), ('instituted', 0), ('mao', 0), ('hardship', 0), ('shipments', 0), ('deferred', 0), ('recent', 0), ('improve', 0), ('varying', 0), ('china', 0), ('sustained', 0), ('friends', 0), ('needy', 0), ('careless', 0), ('stimulating', 0), ('fireplace', 0), ('perkins', 0), ('sustain', 0), ('taxation', 0), ('rugged', 0), ('intellectuals', 0), ('utilizing', 0), ('overlapping', 0), ('overhaul', 0), ('dim', 0), ('monumental', 0), ('defeating', 0), ('thousands', 0), ('cooperative', 0), ('cartel', 0), ('swiftly', 0), ('hunger', 0), ('balance', 0), ('exchanges', 0), ('sufficiently', 0), ('sid', 0), ('indispensable', 0), ('priceless', 0), ('pitches', 0), ('gracious', 0), ('virtues', 0), ('runaway', 0), ('incompatible', 0), ('emergencies', 0), ('ballots', 0), ('flourish', 0), ('swore', 0), ('decade', 0), ('revise', 0), ('judgment', 0), ('submitted', 0), ('hereditary', 0), ('maneuver', 0), ('disrupt', 0), ('magician', 0), ('avenues', 0), ('revenues', 0), ('mortgage', 0), ('difficulties', 0), ('revision', 0), ('transitions', 0), ('hostilities', 0), ('thriving', 0), ('handicapped', 0), ('fertilizer', 0), ('decisions', 0), ('regulatory', 0), ('destiny', 0), ('productivity', 0), ('ask', 0), ('unemployed', 0), ('costly', 0), ('edged', 0), ('orphans', 0), ('resilience', 0), ('pawn', 0), ('caucus', 0), ('prosper', 0), ('maturity', 0), ('none', 0), ('uncertainties', 0), ('obstruction', 0), ('prevailed', 0), ('passions', 0), ('advises', 0), ('interchange', 0), ('conflict', 0), ('horizons', 0), ('93d', 0), ('illuminated', 0), ('spirited', 0), ('peanuts', 0), ('reluctance', 0), ('weakening', 0), ('73d', 0), ('confronting', 0), ('farmer', 0), ('fortunate', 0), ('encourage', 0), ('stabilize', 0), ('automobiles', 0), ('reinforcement', 0), ('affairs', 0), ('voluntary', 0), ('betty', 0), ('continuity', 0), ('request', 0), ('enormous', 0), ('painfully', 0), ('overwhelmingly', 0), ('reorganization', 0), ('multiplied', 0), ('wiser', 0), ('basin', 0), ('stirred', 0), ('consolidate', 0), ('generalized', 0), ('delay', 0), ('fees', 0), ('institutions', 0), ('increase', 0), ('glamour', 0), ('postpone', 0), ('subscribed', 0), ('assurance', 0), ('brotherhood', 0), ('usefulness', 0), ('bestowed', 0), ('depreciation', 0), ('uncertainty', 0), ('capabilities', 0), ('promising', 0), ('snowy', 0), ('pamphlet', 0), ('scarcity', 0), ('emphasizing', 0), ('dearest', 0), ('importing', 0), ('sincerely', 0), ('contractors', 0), ('upon', 0), ('pressing', 0), ('deadline', 0), ('aroused', 0), ('cohesion', 0), ('applaud', 0), ('prohibits', 0), ('westward', 0), ('successors', 0), ('inspires', 0), ('warnings', 0), ('utilities', 0), (\"other's\", 0), ('depends', 0), ('wand', 0), ('staggering', 0), ('postwar', 0), ('supplemental', 0), ('stabilization', 0), ('ballistic', 0), ('escalated', 0), ('mildly', 0), ('mindful', 0), ('encourages', 0), ('soaring', 0), ('hampered', 0), ('ominous', 0), ('rightful', 0), ('preserves', 0), ('peninsula', 0), ('tragic', 0), ('initiated', 0), ('undertake', 0), ('evacuation', 0), ('renewal', 0), ('respectfully', 0), ('rigging', 0), ('requests', 0), ('depend', 0), ('judicial', 0), ('indonesia', 0), ('pearl', 0), ('marching', 0), ('contemplated', 0), ('peril', 0), ('psychologically', 0), ('worldly', 0), ('supervise', 0), ('housewife', 0), ('remain', 0), ('abandon', 0), ('greece', 0), ('conserve', 0), ('exemptions', 0), ('candid', 0), ('reforming', 0), ('concerted', 0), ('materially', 0), ('vice', 0), ('unintended', 0), ('outlining', 0), ('harbor', 0), ('civilization', 0), ('reserves', 0), ('compulsory', 0), ('incomes', 0), ('pride', 0), ('elk', 0), ('afflicted', 0), ('compel', 0), ('nurture', 0), ('unbelievably', 0), ('executive', 0), ('shanghai', 0), ('imports', 0), ('misplaced', 0), ('extravagant', 0), ('imposes', 0), ('yates', 0), ('impunity', 0), ('exclude', 0), ('purchases', 0), ('hardships', 0), ('persists', 0), ('resided', 0), ('oversees', 0), ('narrower', 0), ('imported', 0), ('complicate', 0), ('flatter', 0), ('buildup', 0), ('deductible', 0), ('aspiration', 0), ('affirm', 0), ('domestically', 0), ('commend', 0), ('restrain', 0), ('preserving', 0), ('whip', 0), ('hereafter', 0), ('prerequisite', 0), ('trident', 0), ('unfairly', 0), ('reconciled', 0), ('restrictions', 0), ('dependent', 0), ('dispatch', 0), ('preoccupied', 0), ('stagnation', 0), ('joyous', 0), ('sophistication', 0), ('hastily', 0), ('annually', 0), ('japan', 0), ('dividends', 0), ('sovereignty', 0), ('coherence', 0), ('mansfield', 0), ('authority', 0), ('prices', 0), ('unity', 0), ('resources', 0), ('branch', 0), ('remedial', 0), ('dismantling', 0), ('shaping', 0), ('welcoming', 0), ('pioneered', 0), ('dole', 0), ('multilateral', 0), ('devise', 0), ('crippling', 0), ('branches', 0), ('governmental', 0), ('crude', 0), ('renew', 0), ('exemption', 0), ('assures', 0), ('philosophies', 0), ('meaningful', 0), ('eternally', 0), ('bedrock', 0), ('hamper', 0), (\"people's\", 0), ('deregulation', 0), ('sufficiency', 0), ('accomplishing', 0), ('unparalleled', 0), ('untold', 0), ('unprepared', 0), ('leveled', 0), ('remedies', 0), ('developing', 0), ('taft', 0), ('infiltration', 0), ('diligent', 0), ('furnish', 0), ('vulnerability', 0), ('stewardship', 0), ('hegemony', 0), ('turkey', 0), ('solidarity', 0), ('ammunition', 0), ('onslaught', 0), ('cumbersome', 0), ('tormented', 0), ('philippines', 0), ('pledged', 0), ('equilibrium', 0), ('dividing', 0), ('scarce', 0), ('polls', 0), ('unworthy', 0), ('reassured', 0), ('intersect', 0), ('reiterate', 0), ('appropriated', 0), ('recommendations', 0), (\"bill's\", 0), ('steadfast', 0), ('envision', 0), ('polarization', 0), ('tung', 0), ('ally', 0), ('perilous', 0), ('dismantle', 0), ('dependable', 0), ('augment', 0), ('wartime', 0), ('tension', 0), ('program', 0), ('acutely', 0), ('signatories', 0), ('coal', 0), ('asian', 0), ('discourage', 0), ('discouraged', 0), ('morton', 0), ('symbolizes', 0), ('slashed', 0), ('geothermal', 0), ('fairer', 0), ('rebates', 0), ('watchdog', 0), ('emanating', 0), ('superiority', 0), ('nurtured', 0), ('stockpile', 0), ('signaled', 0), ('rested', 0), ('intercept', 0), ('domestic', 0), ('subversion', 0), ('modal', 0), ('untouchable', 0), ('hallowed', 0), ('intercontinental', 0), ('prayers', 0), ('suspending', 0), ('solicit', 0), ('militarily', 0), ('zest', 0), ('phnom', 0), ('amendments', 0), ('reconsider', 0), ('independence', 0), ('productive', 0), ('branched', 0), ('enacting', 0), ('coexistence', 0), ('partnership', 0), ('drift', 0), ('uphold', 0), ('assassinations', 0), ('destitute', 0), ('perils', 0), ('alaskan', 0), ('intelligence', 0), ('discipline', 0), ('reliance', 0), ('enforceable', 0), ('import', 0), ('adequate', 0), ('jobless', 0), ('eventful', 0), ('specter', 0), ('compensating', 0), ('sympathize', 0), ('penh', 0), ('vigorous', 0), ('promptly', 0), ('fixer', 0), ('stifle', 0), ('preside', 0), ('mannered', 0), ('soared', 0), ('tse', 0), ('pundits', 0), ('vitality', 0), ('ideals', 0), ('unmistakable', 0), ('prudent', 0), ('crossroads', 0), ('brink', 0), ('needlessly', 0), ('armaments', 0), ('aloha', 0), ('dependents', 0), ('infringe', 0), ('peacetime', 0), ('friendship', 0), ('premise', 0), ('disregarding', 0), ('blueprints', 0), ('designating', 0), ('mortgages', 0), ('empress', 0), ('tighten', 0), ('transcends', 0), ('vetoed', 0), ('reprisal', 0), ('vitally', 0), ('willpower', 0), ('persevere', 0), ('schoolchildren', 0), ('inflated', 0), ('recaptured', 0), ('fong', 0), ('steed', 0), ('cranston', 0), ('whims', 0), ('enlistment', 0), ('acreage', 0), ('intrusion', 0), ('tenet', 0), ('reserving', 0), ('prerequisites', 0), ('surpasses', 0), ('crises', 0), ('overdue', 0), ('agonizing', 0), ('amenable', 0), ('harnessed', 0), ('categorical', 0), ('immense', 0), ('crucially', 0), ('savers', 0), ('follies', 0), ('clem', 0), ('interdependence', 0), ('conciliatory', 0), ('alternates', 0), ('abdication', 0), ('programs', 0), ('purging', 0), ('defensible', 0), ('multipurpose', 0), ('bureaucracy', 0), ('intentioned', 0), ('exemplifies', 0), ('durability', 0), ('cornerstone', 0), ('exceeds', 0), ('firmness', 0), ('conferring', 0), ('eases', 0), ('cambodian', 0), ('constituents', 0), ('cranked', 0), ('motorist', 0), ('immutable', 0), (\"republic's\", 0), ('idly', 0), ('assistance', 0), ('independents', 0), ('protectionism', 0), ('reorganize', 0), ('hostility', 0), ('sincerity', 0), ('antitrust', 0), ('emigration', 0), ('consultations', 0), ('tensions', 0), ('concedes', 0), ('prolonging', 0), ('spender', 0), ('inaugural', 0), ('waged', 0), ('unsung', 0), ('throes', 0), ('oil', 0), ('disservice', 0), ('restrictive', 0), ('enlist', 0), ('diplomacy', 0), ('scold', 0), ('falter', 0), ('forthright', 0), ('successes', 0), ('stamina', 0), ('asean', 0), ('retaliatory', 0), ('lapel', 0), ('adversary', 0), ('fha', 0), ('uppermost', 0), ('violators', 0), ('afresh', 0), ('reciprocate', 0), ('radiates', 0), ('outrageously', 0), ('unanimity', 0), ('beleaguered', 0), ('energize', 0), ('energetically', 0), ('thrift', 0), ('mobilize', 0), ('attests', 0), ('disagreeable', 0), ('hawaii', 0), ('humanitarian', 0), ('stimulate', 0), (\"party's\", 0), ('countrymen', 0), ('jealously', 0), ('transcended', 0), ('headlong', 0), ('teng', 0), ('consciences', 0), ('intolerable', 0), ('stockpiling', 0), ('pessimist', 0), ('illusions', 0), ('longstanding', 0), ('cooperatively', 0), ('deterring', 0), ('platitudes', 0), ('bicentennial', 0), ('equitable', 0), ('endorse', 0), ('orderly', 0), ('firsthand', 0), ('khmer', 0), ('easing', 0), ('confronts', 0), ('setbacks', 0), ('recollect', 0), ('emissaries', 0), ('straightaway', 0), ('expediency', 0), ('thermonuclear', 0), ('sidetracked', 0), ('concede', 0), ('multiracial', 0), ('lifeblood', 0), ('hsiao', 0), ('firmament', 0), ('belatedly', 0), ('gladness', 0), ('productively', 0), ('estrangement', 0), ('floodgates', 0), ('harmonizing', 0), ('waive', 0), ('loopholes', 0), ('enact', 0), ('standby', 0), ('hemispheric', 0), ('disappointments', 0), ('commonsense', 0), ('throttling', 0), ('dissuaded', 0), ('sounder', 0), ('cyprus', 0), ('ties', 0), ('revitalizing', 0), ('opec', 0), ('unwise', 0), ('insignificance', 0), ('gasification', 0), ('infallibility', 0), ('stability', 0), ('constancy', 0), ('congresses', 0), ('subcommittees', 0), ('reconvene', 0), ('beautify', 0), ('fourfold', 0), ('stalemate', 0), ('certifies', 0), ('unelected', 0), ('mileage', 0), ('shortages', 0), ('exhort', 0), ('peacemaking', 0), ('negotiated', 0), ('oscillate', 0), ('surcharge', 0), ('optimist', 0), ('framers', 0), ('disunity', 0), ('dialog', 0), ('cambodians', 0), ('disparaged', 0), ('recriminations', 0), ('endanger', 0), (\"morton's\", 0), ('emigrate', 0), ('barrels', 0), ('staggers', 0), ('synchronizing', 0), ('deplores', 0), ('deter', 0), ('alliances', 0), ('impudence', 0), ('matsuda', 0), ('symbolized', 0), ('disarray', 0), ('flagrantly', 0), ('embargoes', 0), ('reaffirmation', 0), ('mobilization', 0), ('posture', 0), ('earnestly', 0), ('normalization', 0), ('loggerheads', 0), ('decisionmaking', 0), ('trespassed', 0), ('carpooling', 0), ('vividly', 0), ('reaffirm', 0), ('petroleum', 0), ('bolling', 0), ('saner', 0), ('affirmatively', 0), ('breadwinners', 0), ('vetoing', 0), ('lessening', 0), ('indecision', 0), ('allocate', 0), ('communique', 0), ('sensationalized', 0), ('recess', 0), ('debase', 0), ('vladivostok', 0), ('misrule', 0), (\"truman's\", 0), ('deferrals', 0), ('slackening', 0), (\"fdr's\", 0), ('reexamined', 0), ('interdependency', 0), ('ablest', 0), ('dawdle', 0), ('reexamination', 0), ('powerplants', 0), ('dwindle', 0), ('rog', 0), ('isolationist', 0), ('matsunaga', 0), ('kindnesses', 0), ('rayburn', 0), ('gratified', 0), ('scrimmages', 0), ('marketeer', 0), ('pacific', 0), ('vetoes', 0), ('befallen', 0), ('onrushing', 0), ('nonmilitary', 0), ('djakarta', 0), ('busing', 0), ('liberalized', 0), ('payrolls', 0), ('disquieted', 0), ('reexamine', 0), ('riptides', 0), ('reaffirmed', 0), ('interdependent', 0), ('detente', 0), ('irresolution', 0), ('noninterference', 0), ('weyand', 0), ('ariyoshi', 0), ('zablocki', 0), ('reemphasize', 0), (\"brezhnev's\", 0), ('agricultures', 0), ('shortchanged', 0), ('inflationary', 0), ('khoy', 0), ('rescissions', 0), ('reconvenes', 0), ('decontrol', 0), ('whenever', 0), ('speak', 0), ('mechanics', 0), ('completing', 0), ('firm', 0), ('fallen', 0), ('equally', 0), ('warehouse', 0), ('foundations', 0), ('booth', 0), ('narrow', 0), ('extraordinary', 0), ('define', 0), ('notable', 0), ('shocking', 0), ('tel', 0), ('pricing', 0), ('passionate', 0), ('saves', 0), ('disputes', 0), ('party', 0), ('careful', 0), ('humanity', 0), ('atomic', 0), ('disturbing', 0), ('ambitious', 0), ('necessity', 0), ('perfection', 0), ('laws', 0), ('cutting', 0), ('serious', 0), ('lately', 0), ('conferences', 0), ('nerves', 0), ('wonders', 0), ('mortality', 0), ('eager', 0), ('tough', 0), ('concerns', 0), ('replace', 0), ('asking', 0), ('northeast', 0), ('convenience', 0), ('profound', 0), ('smallest', 0), ('greatly', 0), ('funds', 0), ('cuban', 0), ('governments', 0), ('ballot', 0), ('transfers', 0), ('pipeline', 0), ('elect', 0), ('refuge', 0), ('murders', 0), ('sphere', 0), ('permits', 0), ('further', 0), ('depression', 0), (\"it'll\", 0), ('threats', 0), ('ease', 0), ('borders', 0), ('reality', 0), ('doubt', 0), ('fossil', 0), ('honesty', 0), ('praying', 0), ('minorities', 0), ('face', 0), ('people', 0), ('consequences', 0), ('stakes', 0), ('twisted', 0), ('searched', 0), ('stark', 0), ('respects', 0), ('advocates', 0), ('outlet', 0), ('grasp', 0), ('fierce', 0), ('bore', 0), ('speeches', 0), ('touches', 0), ('sharply', 0), ('radical', 0), ('expanded', 0), ('act', 0), ('montana', 0), ('gut', 0), ('david', 0), ('begin', 0), ('promised', 0), ('accompanying', 0), ('defines', 0), ('waste', 0), ('charter', 0), ('ignored', 0), ('region', 0), ('leads', 0), ('exciting', 0), ('palestinians', 0), ('clarity', 0), ('freed', 0), ('unite', 0), ('cairo', 0), ('gradually', 0), ('cure', 0), ('verbal', 0), ('deployment', 0), ('winston', 0), ('weaker', 0), ('inspiring', 0), (\"they've\", 0), ('terrorism', 0), ('egyptian', 0), ('hungarian', 0), ('marshal', 0), ('economically', 0), ('bizarre', 0), ('pakistan', 0), ('powerful', 0), ('palestinian', 0), ('churchill', 0), ('displaced', 0), ('dominate', 0), ('unified', 0), ('colonial', 0), ('luther', 0), ('enforced', 0), ('gifted', 0), ('seize', 0), ('accountability', 0), ('sounding', 0), ('haunted', 0), ('nitrogen', 0), ('terrifying', 0), ('merchants', 0), ('sunlight', 0), ('choosing', 0), ('maintaining', 0), ('sincere', 0), ('stretching', 0), ('stiff', 0), ('duties', 0), ('aims', 0), ('drives', 0), ('secured', 0), ('produce', 0), ('selective', 0), ('fulfilled', 0), ('responds', 0), ('peaks', 0), ('twilight', 0), ('confront', 0), ('advancement', 0), ('cut', 0), ('olympic', 0), ('ted', 0), ('demonstrate', 0), ('rulers', 0), ('herbert', 0), ('recognizes', 0), ('investment', 0), ('destruction', 0), ('patience', 0), ('simple', 0), ('aid', 0), ('weaknesses', 0), ('unsuccessful', 0), ('commissions', 0), ('suffers', 0), ('sake', 0), ('mainstream', 0), ('transit', 0), ('bold', 0), ('implications', 0), ('afterward', 0), ('disciples', 0), ('scrap', 0), ('clear', 0), ('farms', 0), ('traditions', 0), ('registration', 0), ('consumption', 0), ('invaded', 0), ('yield', 0), ('crops', 0), ('controversial', 0), ('ton', 0), ('rally', 0), ('comfort', 0), ('projection', 0), ('continuation', 0), ('observing', 0), ('explosives', 0), ('initiate', 0), ('everywhere', 0), ('reminded', 0), ('excessive', 0), ('simultaneously', 0), ('realities', 0), ('naive', 0), ('neglected', 0), ('erosion', 0), ('conquer', 0), ('affects', 0), ('growing', 0), ('talks', 0), ('promote', 0), ('iran', 0), ('domination', 0), ('poses', 0), ('iranian', 0), ('respecting', 0), ('zimbabwe', 0), ('bb', 0), ('important', 0), ('incapable', 0), ('constituency', 0), ('mourning', 0), ('us', 0), ('labor', 0), ('losers', 0), ('captive', 0), ('financed', 0), ('listeners', 0), ('idle', 0), ('endless', 0), ('limit', 0), ('faced', 0), ('anticipation', 0), ('consolidation', 0), ('neutrality', 0), ('owning', 0), ('notebook', 0), ('greatest', 0), ('rejects', 0), ('slowed', 0), ('valleys', 0), ('imperative', 0), ('equal', 0), ('adjusting', 0), ('quoting', 0), ('vivid', 0), ('soviets', 0), ('solar', 0), ('overnight', 0), ('outrageous', 0), ('proposes', 0), ('beacon', 0), ('abolished', 0), ('healed', 0), ('transitional', 0), ('helped', 0), ('explosions', 0), ('ninety', 0), ('verification', 0), ('installations', 0), ('suppression', 0), ('guided', 0), ('gigantic', 0), ('underestimate', 0), ('maze', 0), (\"israel's\", 0), ('devastated', 0), ('toll', 0), ('burden', 0), ('formidable', 0), ('truths', 0), ('dusty', 0), ('tapping', 0), ('dreams', 0), ('paths', 0), ('rebuilt', 0), ('sweating', 0), ('trillion', 0), ('irresponsible', 0), ('forbid', 0), ('egypt', 0), ('unofficial', 0), ('knit', 0), ('slash', 0), ('workers', 0), ('fantasy', 0), ('delays', 0), ('own', 0), ('anarchy', 0), ('gallon', 0), ('stronger', 0), ('isolated', 0), ('comprise', 0), ('giveaway', 0), ('summarized', 0), ('acknowledges', 0), ('excluded', 0), ('hawkins', 0), ('sane', 0), ('orphan', 0), ('guaranteed', 0), ('factories', 0), ('criticized', 0), ('challenge', 0), ('concentrating', 0), ('restless', 0), ('nostalgia', 0), ('heirs', 0), ('substantive', 0), ('aviv', 0), ('shocks', 0), ('disrespect', 0), ('mast', 0), ('condemnation', 0), ('presses', 0), ('elimination', 0), ('answers', 0), ('rapidly', 0), (\"who've\", 0), ('summon', 0), ('outward', 0), ('thirds', 0), ('inherited', 0), ('human', 0), ('problems', 0), ('hoover', 0), ('invading', 0), ('persistent', 0), ('railroads', 0), ('consciously', 0), ('middle', 0), ('paralysis', 0), ('footing', 0), ('governors', 0), ('constraints', 0), ('inspire', 0), ('struggled', 0), ('bureaucratic', 0), ('alarming', 0), ('autonomy', 0), ('contribute', 0), ('decent', 0), ('strong', 0), ('deprivation', 0), ('mayors', 0), ('violates', 0), ('containment', 0), ('fulfillment', 0), ('secondly', 0), ('abolish', 0), ('dictated', 0), ('refinery', 0), ('panama', 0), ('longing', 0), ('strife', 0), ('restraining', 0), ('patriotism', 0), ('troubling', 0), ('invincible', 0), ('outraged', 0), ('steward', 0), ('nominee', 0), ('danger', 0), ('voodoo', 0), ('straits', 0), ('accountants', 0), ('gulf', 0), ('grips', 0), ('prescriptions', 0), ('haste', 0), ('hammered', 0), ('condemning', 0), ('nixon', 0), ('oval', 0), ('struggle', 0), (\"union's\", 0), ('camp', 0), ('unconventional', 0), ('bodied', 0), ('reliant', 0), ('escalation', 0), ('proclaim', 0), ('embodied', 0), ('treaty', 0), ('excise', 0), ('lowers', 0), ('slogans', 0), ('irreversible', 0), ('stale', 0), ('encompassing', 0), ('transient', 0), ('denominations', 0), ('administrations', 0), ('mandatory', 0), ('reciprocal', 0), ('fiercely', 0), ('tackled', 0), ('quarrel', 0), ('poised', 0), ('advisable', 0), ('ideologies', 0), ('housewives', 0), ('israeli', 0), ('rights', 0), ('matured', 0), ('faith', 0), ('lowering', 0), ('valiant', 0), ('plentiful', 0), ('whipping', 0), ('industrialized', 0), ('israel', 0), ('cursing', 0), ('passionately', 0), ('chopping', 0), ('fragmentation', 0), ('sino', 0), ('enhance', 0), ('unleash', 0), ('southwest', 0), ('laborers', 0), ('embassies', 0), ('lobbyists', 0), ('unrestricted', 0), ('framework', 0), ('exporters', 0), ('attest', 0), ('gaza', 0), ('emptiness', 0), ('futuristic', 0), ('barbed', 0), ('settlements', 0), ('digs', 0), ('repressive', 0), ('guarantee', 0), (\"public's\", 0), ('reassurance', 0), ('jordanian', 0), ('superpower', 0), ('limitless', 0), ('frustrations', 0), ('preachers', 0), ('understandably', 0), ('proverb', 0), ('disarm', 0), ('groundwork', 0), ('dissidents', 0), ('hispanics', 0), ('piling', 0), ('overshadowed', 0), ('gallant', 0), ('cartels', 0), ('blight', 0), ('trucking', 0), ('interacts', 0), ('resolute', 0), ('uncontrollable', 0), ('synthetic', 0), ('deploy', 0), ('undermines', 0), ('intertwined', 0), ('aggravating', 0), ('learned', 0), ('peking', 0), ('communicated', 0), ('squarely', 0), ('misunderstand', 0), ('inaction', 0), ('burdened', 0), ('painless', 0), ('grappling', 0), ('fates', 0), ('thrive', 0), ('canal', 0), ('path', 0), ('indulgence', 0), ('baines', 0), ('waterway', 0), ('interferes', 0), ('horatio', 0), ('wholeheartedly', 0), ('cooperated', 0), ('abolishing', 0), ('hardworking', 0), ('admiration', 0), ('fitzgerald', 0), ('increases', 0), ('bumpy', 0), ('unify', 0), ('momentous', 0), ('wishful', 0), ('engulfed', 0), ('elderly', 0), ('rhodesia', 0), ('roth', 0), ('prairies', 0), ('repelled', 0), (\"war's\", 0), ('grapple', 0), ('illiteracy', 0), ('expedite', 0), ('ducked', 0), ('immersion', 0), ('expedient', 0), ('understandings', 0), ('unmatched', 0), ('openness', 0), ('defenseless', 0), ('watchman', 0), ('knesset', 0), ('reverses', 0), ('bypassed', 0), ('negate', 0), ('revitalization', 0), ('boycotting', 0), ('govern', 0), ('diplomatic', 0), ('fritz', 0), ('boldness', 0), ('campaigner', 0), ('journeyed', 0), ('proposing', 0), ('paperwork', 0), ('roadblocks', 0), ('substandard', 0), ('quotas', 0), ('bitterness', 0), ('abhorrent', 0), (\"power's\", 0), ('kemp', 0), ('g.i', 0), ('slows', 0), ('persian', 0), ('hubert', 0), ('enhances', 0), ('justifiably', 0), ('normalize', 0), ('metcalf', 0), ('nongovernmental', 0), ('inexhaustible', 0), (\"nixon's\", 0), ('moslem', 0), ('chicano', 0), ('afghanistan', 0), ('courageously', 0), ('forceful', 0), ('treasuries', 0), ('indivisible', 0), ('recur', 0), ('thicket', 0), ('irresponsibility', 0), ('responsibly', 0), ('sinai', 0), ('hampers', 0), ('repudiated', 0), ('unhindered', 0), ('rekindle', 0), ('fatherless', 0), ('arsenals', 0), ('harmoniously', 0), ('shale', 0), ('unyielding', 0), ('delegations', 0), ('shortsighted', 0), ('hostages', 0), ('thankless', 0), ('tinsel', 0), ('superpowers', 0), ('reorganizing', 0), ('admonition', 0), ('exemplified', 0), ('subjugate', 0), ('republican', 0), ('ratifying', 0), ('treaties', 0), ('taiwan', 0), ('pinpointed', 0), ('frankness', 0), ('rebirth', 0), ('ambassadors', 0), ('shackle', 0), ('carters', 0), (\"roosevelt's\", 0), ('succumb', 0), ('modernized', 0), ('unaffordable', 0), ('disastrously', 0), ('blockading', 0), ('mondale', 0), ('immobility', 0), ('authorizations', 0), ('constraint', 0), ('aggravates', 0), ('thermostats', 0), ('hornblower', 0), ('dependability', 0), ('epitomized', 0), ('chastened', 0), ('beneficially', 0), ('unwinnable', 0), ('crisscrossed', 0), ('shapers', 0), ('lippmann', 0), ('reelected', 0), ('bountiful', 0), ('modernizing', 0), ('hormuz', 0), ('yearnings', 0), ('unwarranted', 0), ('sadat', 0), ('humphrey', 0), ('embargoed', 0), ('exportable', 0), ('panamanians', 0), ('gobbledygook', 0), ('dramatized', 0), ('rearmed', 0), ('skyrocketing', 0), ('rededicate', 0), ('evasiveness', 0), ('delano', 0), ('crystalized', 0), ('carpools', 0), ('waffled', 0), ('revitalized', 0), ('reconfirmed', 0), ('communiqué', 0), ('gasohol', 0), ('redtape', 0), ('nominated', 0), ('convenient', 0), ('chancellor', 0), ('chemicals', 0), ('advisory', 0), ('proper', 0), ('gift', 0), ('pursuit', 0), ('retreat', 0), ('spreading', 0), ('approve', 0), ('wondered', 0), ('sweat', 0), ('comparable', 0), ('quietly', 0), ('temporary', 0), ('ground', 0), ('lifted', 0), ('deadly', 0), ('understands', 0), ('atmosphere', 0), ('hearts', 0), ('blessing', 0), ('spray', 0), ('avoided', 0), ('understanding', 0), ('weekly', 0), ('willing', 0), ('thank', 0), ('predicted', 0), ('passport', 0), ('connecting', 0), ('tolerance', 0), ('allied', 0), ('protests', 0), ('sterling', 0), ('intentions', 0), ('belonged', 0), ('und', 0), ('beam', 0), ('signed', 0), ('judges', 0), ('curse', 0), ('enterprises', 0), ('dimension', 0), ('orleans', 0), ('rewards', 0), ('altogether', 0), ('qualities', 0), ('railroad', 0), (\"you've\", 0), ('sign', 0), ('prayer', 0), ('memories', 0), ('struck', 0), ('paying', 0), ('towers', 0), ('backs', 0), ('es', 0), ('breed', 0), ('destroying', 0), ('tackle', 0), ('fitting', 0), ('burnt', 0), ('transform', 0), ('committed', 0), ('committees', 0), ('harvest', 0), ('launched', 0), ('museums', 0), ('flames', 0), ('ralph', 0), ('struggles', 0), ('intense', 0), ('days', 0), ('children', 0), ('likewise', 0), ('anxious', 0), ('cheer', 0), ('enjoy', 0), ('words', 0), ('root', 0), ('speaks', 0), ('caution', 0), ('secretly', 0), ('ladies', 0), ('believe', 0), ('apartments', 0), ('listening', 0), ('sentiment', 0), ('secular', 0), (\"she'd\", 0), ('limiting', 0), ('ideology', 0), ('corrected', 0), ('personnel', 0), ('keeps', 0), ('loans', 0), ('extract', 0), ('bullets', 0), ('troubles', 0), ('sensitivity', 0), ('convincing', 0), ('appointed', 0), ('pull', 0), ('genuinely', 0), ('consistency', 0), ('distress', 0), ('median', 0), ('zero', 0), ('midst', 0), ('countless', 0), ('itself', 0), ('signing', 0), ('repair', 0), ('differences', 0), ('businessman', 0), ('certainty', 0), ('sweep', 0), ('immigrant', 0), ('competent', 0), ('began', 0), ('homeland', 0), ('libya', 0), ('remembering', 0), ('siege', 0), ('engage', 0), ('proceeded', 0), ('senses', 0), ('strategy', 0), ('reward', 0), ('verdict', 0), ('indeed', 0), ('item', 0), ('moments', 0), ('table', 0), ('sides', 0), ('heroes', 0), ('ranch', 0), ('hers', 0), ('reduced', 0), ('prompted', 0), ('bargain', 0), ('conventions', 0), ('seated', 0), ('aerial', 0), ('ivan', 0), ('appointments', 0), ('ruin', 0), ('represents', 0), ('lowered', 0), ('frustrating', 0), ('possessed', 0), ('objection', 0), ('oversight', 0), ('erected', 0), ('overcome', 0), ('bury', 0), ('creep', 0), ('spill', 0), ('directing', 0), ('surely', 0), ('signals', 0), ('olympics', 0), ('regional', 0), ('farther', 0), ('specialty', 0), ('wherever', 0), ('implementation', 0), ('dealt', 0), ('spine', 0), ('millennium', 0), ('telecommunications', 0), ('cuisine', 0), ('inviting', 0), (\"i've\", 0), ('shield', 0), ('optimistic', 0), ('composer', 0), ('philosopher', 0), ('ceremonies', 0), ('hospitality', 0), ('competitions', 0), ('killers', 0), ('reckless', 0), ('restriction', 0), ('marketplace', 0), ('trust', 0), ('sunrise', 0), ('depths', 0), ('planting', 0), ('moscow', 0), ('weakened', 0), ('bracket', 0), ('comprised', 0), ('expired', 0), ('theaters', 0), ('loudly', 0), ('adopting', 0), ('quo', 0), ('understandable', 0), ('jumped', 0), ('eternal', 0), ('stands', 0), ('index', 0), ('prairie', 0), ('gamble', 0), ('scouts', 0), ('fuller', 0), ('disadvantage', 0), ('forge', 0), ('bind', 0), ('visions', 0), ('cry', 0), ('ja', 0), ('enjoyment', 0), ('comrades', 0), ('propaganda', 0), ('consecutive', 0), ('cruise', 0), ('receipts', 0), ('rests', 0), ('nightmares', 0), ('salute', 0), ('dramatic', 0), ('respected', 0), ('humor', 0), ('magnet', 0), ('impulse', 0), ('directive', 0), ('reflect', 0), ('mere', 0), ('mighty', 0), ('separating', 0), ('shelters', 0), ('shipment', 0), ('hope', 0), ('richer', 0), ('western', 0), ('beginnings', 0), ('harness', 0), ('inspection', 0), ('city', 0), ('spreads', 0), ('sleeves', 0), ('cumulative', 0), ('technological', 0), ('finest', 0), ('baltic', 0), ('obsolete', 0), ('undertook', 0), ('assemble', 0), ('brent', 0), ('reside', 0), ('transforming', 0), ('pointer', 0), ('shutting', 0), ('staff', 0), ('deserved', 0), ('replaces', 0), ('criticisms', 0), ('captivity', 0), ('possesses', 0), ('invite', 0), ('crusade', 0), ('greetings', 0), ('destroyed', 0), ('entire', 0), ('dime', 0), ('emerson', 0), ('edmund', 0), ('emerges', 0), ('catastrophe', 0), ('reminder', 0), ('protested', 0), ('paints', 0), ('broadcasts', 0), ('west', 0), ('brackets', 0), ('succeeding', 0), ('someday', 0), ('custody', 0), ('knocks', 0), ('echoes', 0), ('flaw', 0), ('madam', 0), ('diversion', 0), ('watershed', 0), ('economical', 0), ('dew', 0), ('reaching', 0), ('beliefs', 0), ('diplomats', 0), ('hotter', 0), ('crawling', 0), ('shines', 0), ('nicholas', 0), ('findings', 0), ('rates', 0), ('atlanta', 0), ('detroit', 0), ('liberated', 0), ('youngsters', 0), ('diverted', 0), ('comforting', 0), ('notions', 0), ('rejoice', 0), ('libyan', 0), ('unrealistic', 0), ('suitcase', 0), ('upsetting', 0), ('tariffs', 0), ('retaliation', 0), ('rug', 0), ('enlightened', 0), ('elites', 0), ('fences', 0), ('virtually', 0), ('liberals', 0), ('residing', 0), ('dotted', 0), ('sponsor', 0), ('breadth', 0), ('shining', 0), ('delegates', 0), ('dared', 0), ('desperation', 0), ('pronunciation', 0), ('correcting', 0), ('relieved', 0), ('globe', 0), ('divides', 0), ('aspire', 0), ('turbulent', 0), ('inscribed', 0), ('invariably', 0), ('stringent', 0), ('visionary', 0), ('spoken', 0), ('plunged', 0), ('deteriorated', 0), ('vacations', 0), ('skepticism', 0), ('cub', 0), ('initiative', 0), ('ein', 0), ('sixties', 0), ('discontent', 0), ('rubble', 0), ('miracle', 0), ('ich', 0), ('visas', 0), ('ceilings', 0), ('excuses', 0), ('gate', 0), ('continent', 0), ('invoke', 0), ('abiding', 0), ('warmed', 0), ('prohibiting', 0), ('wall', 0), ('stocked', 0), ('pledges', 0), ('hostage', 0), ('reclaim', 0), ('george', 0), ('geneva', 0), ('vowed', 0), ('eliminates', 0), ('counsellor', 0), ('assurances', 0), ('conventional', 0), ('redress', 0), ('teddy', 0), ('ratification', 0), ('gutted', 0), ('lessen', 0), ('soar', 0), (\"there'll\", 0), ('senseless', 0), ('unborn', 0), ('belongs', 0), ('gentlemen', 0), ('hubs', 0), ('grieving', 0), ('jammed', 0), ('symbols', 0), ('tragedies', 0), ('erroneous', 0), ('unprotected', 0), ('eliminated', 0), ('swan', 0), ('dream', 0), ('permitted', 0), ('glorious', 0), ('intermediate', 0), ('stormed', 0), ('heartfelt', 0), ('liberate', 0), ('ifs', 0), ('indexed', 0), ('sweeter', 0), ('waldo', 0), ('appoint', 0), ('scar', 0), ('deployed', 0), ('observance', 0), ('proverbs', 0), ('bolster', 0), ('anew', 0), ('affirmation', 0), ('iceland', 0), ('galilee', 0), ('renewing', 0), ('overcame', 0), ('triumph', 0), ('marshall', 0), ('recapture', 0), ('summits', 0), ('vengeance', 0), ('lament', 0), ('embodiment', 0), ('justifiable', 0), ('enlighten', 0), ('warmest', 0), ('smuggled', 0), ('calamity', 0), ('honored', 0), ('sketchy', 0), ('defiant', 0), ('disparities', 0), ('excesses', 0), ('accomplished', 0), ('geopolitical', 0), ('yearning', 0), ('epitome', 0), ('strives', 0), ('lawns', 0), ('forgiven', 0), ('sorely', 0), ('piety', 0), ('embodies', 0), ('commemorating', 0), ('liberalization', 0), ('enshrined', 0), ('checkpoints', 0), ('deterrence', 0), ('paine', 0), ('worship', 0), ('fortitude', 0), ('classrooms', 0), ('tireless', 0), ('gimmick', 0), ('beset', 0), ('continents', 0), ('solemnly', 0), ('tribute', 0), ('nur', 0), ('sectors', 0), ('pike', 0), ('uncharted', 0), ('soybean', 0), ('humanism', 0), ('doubling', 0), ('ss', 0), ('bush', 0), ('wagon', 0), ('breakthroughs', 0), ('dodged', 0), ('diminishes', 0), ('majorities', 0), ('chore', 0), ('precincts', 0), ('bestow', 0), ('orchestras', 0), ('thrives', 0), ('dreamers', 0), ('distasteful', 0), ('encircled', 0), ('flavors', 0), ('khrushchev', 0), ('confess', 0), ('nicaragua', 0), ('angola', 0), ('cajun', 0), ('pledging', 0), ('affront', 0), ('inescapable', 0), ('gash', 0), ('devotion', 0), ('healthiest', 0), ('statesmen', 0), ('hopelessness', 0), ('malaise', 0), ('invocation', 0), ('impossibly', 0), ('carpenter', 0), ('tower', 0), ('nancy', 0), ('kohl', 0), ('distrust', 0), (\"mind's\", 0), ('laurels', 0), (\"nato's\", 0), ('imprinted', 0), ('maxim', 0), ('hitched', 0), ('nicaraguan', 0), ('replete', 0), (\"report's\", 0), ('unfold', 0), ('buts', 0), ('devastation', 0), ('wreaths', 0), ('unfairness', 0), ('unprovoked', 0), ('withstand', 0), ('khomeini', 0), ('totalitarianism', 0), (\"berlin's\", 0), ('shirk', 0), ('reykjavik', 0), ('crudely', 0), ('doers', 0), ('persistence', 0), ('hab', 0), ('mightiest', 0), ('afflict', 0), ('unassailable', 0), ('ploy', 0), ('mistrust', 0), ('platz', 0), ('adenauer', 0), ('nazarene', 0), (\"nancy's\", 0), ('grenada', 0), ('sprees', 0), ('thwarting', 0), ('billowing', 0), (\"tower's\", 0), ('expeditious', 0), ('selflessly', 0), ('shultz', 0), ('ands', 0), ('freelancing', 0), ('herz', 0), ('reuter', 0), ('sapling', 0), ('redouble', 0), ('brandenburg', 0), ('codify', 0), ('heeding', 0), ('expansionism', 0), ('noch', 0), ('unashamed', 0), ('sunlit', 0), ('quitters', 0), ('covert', 0), ('earnestness', 0), ('encircles', 0), ('inspections', 0), ('nazar', 0), ('redoubled', 0), ('erhard', 0), ('glasnost', 0), ('hatreds', 0), ('stubborn', 0), ('tingles', 0), ('abolishes', 0), ('pershing', 0), ('reichstag', 0), ('gage', 0), ('einen', 0), ('recordkeeping', 0), ('tailspin', 0), ('muskie', 0), ('demilitarization', 0), ('earners', 0), ('deterrent', 0), ('refinanced', 0), ('comity', 0), ('unalterable', 0), ('warheads', 0), ('h.g', 0), ('grunewald', 0), (\"treaty's\", 0), ('scowcroft', 0), ('crawfish', 0), ('reaganomics', 0), ('outlays', 0), ('tiergarten', 0), ('backwardness', 0), ('inf', 0), ('disarmingly', 0), ('gibt', 0), ('f.d.r', 0), ('disabused', 0), ('contras', 0), ('gipper', 0), (\"gage's\", 0), ('ennoblement', 0), ('eleni', 0), ('wagonload', 0), ('totalitarian', 0), ('abshire', 0), (\"many's\", 0), ('obukhov', 0), ('berlin', 0), ('sdi', 0), ('koffer', 0), (\"board's\", 0), ('wirtschaftswunder', 0), (\"ku'damm\", 0), ('carlucci', 0), ('nsc', 0), ('berliners', 0), ('berliner', 0), ('gorbachev', 0), ('citizens', 0.016558535100274163), ('hopeful', 0.050565041070941064), ('liberty', 0.159861272010148), ('senator', 0.34745227564560777), ('nations', 0.3932080877264319), (\"america's\", 0.39623294044831425), ('incentives', 0.41062629384546456), (\"president's\", 0.4713156157926197), ('threatens', 0.5252745613666221), ('build', 0.5536360377140701), ('war', 0.6524915543219854), ('advisers', 0.8387995959135846), ('future', 0.9043317317141559), ('constructive', 0.9194798081864894), ('strengthen', 0.9229248717208218), ('responsibility', 0.9394510502673259), ('continue', 0.9574339674583365), ('endure', 0.983889253165259), ('privilege', 1.002106427361845), ('missile', 1.002106427361845), ('fairness', 1.00451339583267), ('develop', 1.004918936839758), ('billion', 1.0142250259002457), ('seek', 1.0450107124411474), ('national', 1.0536318359435515), ('reduce', 1.1098049835652959), ('peaceful', 1.1159701970031883), ('doctrine', 1.142417394549494), ('outlined', 1.1654003708265424), ('freely', 1.189117147960897), ('moral', 1.213581319870935), ('compliance', 1.2154326518472243), ('achieving', 1.2154326518472243), ('obey', 1.246849985441381), ('defended', 1.2870074446276776), ('accomplish', 1.3165196891739888), ('battlefield', 1.3301812763768646), ('reagan', 1.3301812763768646), ('intend', 1.3619947171482942), ('federal', 1.4093500068835554), ('tempted', 1.415483246084239), ('willingness', 1.415483246084239), ('strengthening', 1.4344427993337148), ('deeper', 1.44217097376339), ('generation', 1.4574078436124511), ('democrat', 1.4720856858799578), ('pressures', 1.4720856858799578), ('vietnam', 1.478629852333092), ('past', 1.4803684957090884), ('individually', 1.498199904211301), ('credibility', 1.498199904211301), ('leaders', 1.5156638890978744), ('fundamental', 1.5447806523236582), ('impose', 1.5459990015480738), ('american', 1.5674936812375506), ('conservation', 1.5732845538349733), ('flexibility', 1.574446478099262), ('despair', 1.6216271332801366), ('homes', 1.6247891597582236), ('ours', 1.6424272743467503), ('deeply', 1.6433334280178515), ('enforce', 1.6467465279418014), ('major', 1.650248092128672), ('abraham', 1.6616803088906362), ('grave', 1.6727438876352623), ('compassion', 1.67812157812646), ('expand', 1.6789532454595721), ('agenda', 1.7335448552443675), ('unemployment', 1.7346497338863704), ('armies', 1.735154907113223), ('ensuring', 1.735154907113223), ('principles', 1.7390038339066938), ('presidential', 1.76213955338918), ('senate', 1.7671507154587216), ('courage', 1.7744485417103821), ('cherish', 1.7990768767115233), ('pursued', 1.8215113529938958), ('courageous', 1.8229031456969418), ('ensure', 1.8364906943083628), ('mankind', 1.8388212974092668), ('dedication', 1.8388212974092668), ('negotiate', 1.8445338513878704), ('capability', 1.8445338513878704), ('cannot', 1.8499657904816154), ('immediate', 1.8558921748176138), ('unprecedented', 1.9114652528747424), ('violations', 1.9256063255814266), ('spirit', 1.9474495241743026), ('wage', 1.9786135850632856), ('prospective', 1.9958482189725992), ('reconciliation', 1.9958482189725992), ('troubled', 1.995997984328675), ('progress', 2.0213780580209075), ('overwhelming', 2.0358952094962732), ('firmly', 2.0358952094962732), ('abroad', 2.0471200572949497), ('critically', 2.0767911956909373), ('sacrifice', 2.0941091610092117), ('halt', 2.100958924471131), ('east', 2.135839010604841), ('interests', 2.138628755774979), ('honor', 2.1651084480882714), ('burdens', 2.167164251701754), ('steady', 2.183326429882145), ('will', 2.1859698554989535), ('world', 2.187242672374772), ('convention', 2.1957172569488117), ('permit', 2.1997108858154677), ('grateful', 2.1997108858154677), ('substantial', 2.2030905410342796), ('truth', 2.2135060603646735), ('regulations', 2.2405506147405565), ('neglect', 2.2443386787695765), ('vision', 2.273557683310308), ('exchanged', 2.3252730070083794), ('stable', 2.330352209320762), ('billions', 2.34710496608988), ('imposed', 2.390769330251297), ('government', 2.4102556601261327), ('continuing', 2.44035850428895), ('rhetoric', 2.5181156380555136), ('peoples', 2.5401913943697774), ('consult', 2.6256678193980685), ('gasoline', 2.6256678193980685), ('strive', 2.662067759194451), ('ago', 2.6733847024949076), ('security', 2.6954891289349927), ('nuclear', 2.7019554960583134), ('provide', 2.715600918255797), ('constitution', 2.716916683282738), ('steadily', 2.7171644754972193), ('fulfill', 2.805642194946606), ('promises', 2.810747282643993), ('forces', 2.865084334272738), ('submitting', 2.9077315168391755), ('quote', 2.920392278118147), ('backward', 2.9911388698798054), ('our', 3.015774010663554), ('military', 3.0205973971193756), ('mounting', 3.042538655951782), ('strengths', 3.042538655951782), ('agreement', 3.114827613445657), ('withdrawal', 3.127145895634987), ('naval', 3.1436905069094783), ('spending', 3.1706124779987928), ('pledge', 3.1920500888476964), ('wisdom', 3.199672535053794), ('crucial', 3.199672535053794), ('arms', 3.230612121855519), ('reductions', 3.238504004573562), ('reduction', 3.2401446297148886), ('cambodia', 3.240199527292786), ('integrity', 3.245332117034661), (\"world's\", 3.2687297129042143), ('truman', 3.2840285922120795), ('establish', 3.3679863990279406), ('restoring', 3.3909073216724237), ('urgent', 3.4370301684855242), ('roosevelt', 3.4512034143654127), ('allies', 3.536961154546006), ('oceans', 3.5712703957847043), ('emphasize', 3.592343035642344), ('decades', 3.603870075387258), ('negotiating', 3.6570419016319637), ('maintain', 3.6668413754160225), ('efforts', 3.6957144023967334), ('stake', 3.7581964141295185), ('actions', 3.7953982699628477), ('prospects', 3.807565206258468), ('predecessors', 3.826072666994774), ('kennedy', 3.854997450176482), ('fulfilling', 3.916358324889421), ('historic', 3.986900383649816), ('percent', 3.9888953912554093), ('proposals', 4.024177905546807), ('ourselves', 4.063076834795526), ('united', 4.138848550579457), ('agony', 4.150430335292174), ('confident', 4.15056762742075), ('liberties', 4.222960718237152), ('proud', 4.233408426271839), ('policies', 4.241391228052572), ('comprehensive', 4.244412143640985), ('republic', 4.262358199666866), ('mutual', 4.262927382901564), ('consultation', 4.315610127232096), ('profoundly', 4.319161297951683), ('abandoning', 4.319161297951683), ('defenses', 4.352328083575525), ('solemn', 4.401380408436741), ('foreign', 4.44344501305818), ('presidents', 4.53453957295081), ('president', 4.620594938956612), ('legislation', 4.628458587671306), ('striving', 4.648767245513321), ('recession', 4.650034833399642), ('states', 4.735187798333394), ('recommending', 4.738952125474965), ('gratitude', 4.782307748756962), ('congressional', 4.795597105625306), ('begun', 4.811353082284186), ('prosperity', 4.820793890440056), ('propose', 4.87677632624473), ('union', 4.920396248234942), ('tyranny', 4.987008435310878), ('harmed', 4.987008435310878), ('eisenhower', 4.987008435310878), ('shortage', 5.107961969089093), ('consuming', 5.107961969089093), ('specifics', 5.149579083656917), ('asia', 5.19314924138945), ('initiatives', 5.195926468494177), ('defense', 5.222661875660462), ('mandate', 5.300321131990849), ('vigorously', 5.319823726231827), ('strength', 5.401015071968495), ('nato', 5.43498088006919), ('energy', 5.4756846769679), ('preserve', 5.491694976885337), ('resolving', 5.5755632624328415), ('compassionate', 5.666155065770416), ('confidence', 5.7201242325501465), ('bloodshed', 5.822633305724664), ('economic', 5.831811984086146), ('achieved', 5.905009747874878), ('policy', 6.36393382879325), ('effort', 6.611807510183815), ('determination', 7.052330358418589), ('energies', 7.08503759806137), ('cooperation', 7.11986622547236), ('assure', 7.402853336082601), ('vigilance', 7.410277848824608), ('jeopardize', 7.5489971736891235), ('presidency', 8.05237827984418), ('restraint', 8.086833356688743), ('vital', 8.145050791662175), ('toward', 8.341310910302191), ('confrontation', 8.470767029275068), ('accords', 8.513215760147272), ('democracies', 8.775603157996041), ('aggression', 8.86743096396443), ('negotiations', 8.939414898914274), ('relations', 8.942645469722969), ('rationing', 8.973238709982652), (\"nation's\", 9.240259797239801), ('adversaries', 9.336426851663), ('decency', 9.569069823132592), ('vigor', 9.676434075981266), ('candor', 10.967969528108686), ('candidly', 11.21363328575341), ('soviet', 11.423428561682638), ('unselfish', 11.714006584317666), ('embargo', 11.80917477799958), ('windfall', 11.845014640581837), ('inflation', 11.874923703784031), ('peace', 11.915614930218347), ('strategic', 12.750657796670996)]\n"
     ]
    }
   ],
   "source": [
    "import statistics\n",
    "\n",
    "def medlow(lst):\n",
    "    sortlst = sorted(lst)\n",
    "    if len(sortlst) % 2 == 0:\n",
    "        return(sortlst[int(len(sortlst) / 2) - 1])\n",
    "    else:\n",
    "        return(sortlst[int(len(sortlst) / 2 - 0.5)])\n",
    "\n",
    "def get_inlist(lab, i):\n",
    "    return [j for j in range(0, len(lab)) if lab[j] == i]\n",
    "    \n",
    "def get_characteristic_words(overrep_words, inlist):\n",
    "    wordscore_in = dict()\n",
    "    wordscore_out = dict()\n",
    "    for k in range(0, len(overrep_words)):\n",
    "        if k in inlist:\n",
    "            for word, score in overrep_words[k]:\n",
    "                wordscore_in.setdefault(word, list())\n",
    "                wordscore_in[word].append(score)\n",
    "        else:\n",
    "            for word, score in overrep_words[k]:\n",
    "                wordscore_out.setdefault(word, list())\n",
    "                wordscore_out[word].append(score)\n",
    "    for word in wordscore_in.keys():\n",
    "        for i in range(0, len(inlist) - len(wordscore_in[word])):\n",
    "            wordscore_in[word].append(0)\n",
    "    for word in wordscore_out.keys():\n",
    "        for i in range(0, (len(overrep_words) - len(inlist)) - len(wordscore_out[word])):\n",
    "            wordscore_out[word].append(0)\n",
    "    scorelist = list()\n",
    "    for word in wordscore_in.keys():\n",
    "        med_in = medlow(wordscore_in[word]) if word in wordscore_in.keys() else 0\n",
    "        med_out = medlow(wordscore_out[word]) if word in wordscore_out.keys() else 0\n",
    "        scorelist.append((word, med_in - med_out))\n",
    "    return sorted(scorelist, key = lambda x: x[1])\n",
    "\n",
    "print(get_characteristic_words(overrep_words, get_inlist(clustering.labels_, 1)))\n",
    "#print(get_characteristic_words(overrep_words, [0, 2]))"
   ]
  },
  {
   "cell_type": "code",
   "execution_count": null,
   "metadata": {},
   "outputs": [],
   "source": []
  }
 ],
 "metadata": {
  "kernelspec": {
   "display_name": "Python 3",
   "language": "python",
   "name": "python3"
  },
  "language_info": {
   "codemirror_mode": {
    "name": "ipython",
    "version": 3
   },
   "file_extension": ".py",
   "mimetype": "text/x-python",
   "name": "python",
   "nbconvert_exporter": "python",
   "pygments_lexer": "ipython3",
   "version": "3.6.4"
  }
 },
 "nbformat": 4,
 "nbformat_minor": 2
}
